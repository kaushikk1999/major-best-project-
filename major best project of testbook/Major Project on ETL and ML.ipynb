{
 "cells": [
  {
   "cell_type": "code",
   "execution_count": 1,
   "id": "8Q-7qLqLAWkg",
   "metadata": {
    "id": "8Q-7qLqLAWkg"
   },
   "outputs": [],
   "source": [
    "import numpy as np\n",
    "# numpy is aliased as np\n",
    "import pandas as pd\n",
    "# pandas is aliased as pd\n",
    "import matplotlib.pyplot as plt\n",
    "# matplotlib.pyplot is aliased as plt\n",
    "import seaborn as sns\n",
    "# seaborn is aliased as sns"
   ]
  },
  {
   "cell_type": "markdown",
   "id": "8864OrYlAWkl",
   "metadata": {
    "id": "8864OrYlAWkl"
   },
   "source": [
    "#### Link to the Kaggle Competition dataset\n",
    "https://www.kaggle.com/competitions/santander-customer-satisfaction/data"
   ]
  },
  {
   "cell_type": "code",
   "execution_count": 2,
   "id": "uIUmz6OnAWkn",
   "metadata": {
    "id": "uIUmz6OnAWkn",
    "outputId": "df9c807d-05f9-4c5d-e460-d50a5bee8775"
   },
   "outputs": [
    {
     "name": "stdout",
     "output_type": "stream",
     "text": [
      "<class 'pandas.core.frame.DataFrame'>\n"
     ]
    },
    {
     "data": {
      "text/html": [
       "<div>\n",
       "<style scoped>\n",
       "    .dataframe tbody tr th:only-of-type {\n",
       "        vertical-align: middle;\n",
       "    }\n",
       "\n",
       "    .dataframe tbody tr th {\n",
       "        vertical-align: top;\n",
       "    }\n",
       "\n",
       "    .dataframe thead th {\n",
       "        text-align: right;\n",
       "    }\n",
       "</style>\n",
       "<table border=\"1\" class=\"dataframe\">\n",
       "  <thead>\n",
       "    <tr style=\"text-align: right;\">\n",
       "      <th></th>\n",
       "      <th>ID</th>\n",
       "      <th>var3</th>\n",
       "      <th>var15</th>\n",
       "      <th>imp_ent_var16_ult1</th>\n",
       "      <th>imp_op_var39_comer_ult1</th>\n",
       "      <th>imp_op_var39_comer_ult3</th>\n",
       "      <th>imp_op_var40_comer_ult1</th>\n",
       "      <th>imp_op_var40_comer_ult3</th>\n",
       "      <th>imp_op_var40_efect_ult1</th>\n",
       "      <th>imp_op_var40_efect_ult3</th>\n",
       "      <th>...</th>\n",
       "      <th>saldo_medio_var33_hace2</th>\n",
       "      <th>saldo_medio_var33_hace3</th>\n",
       "      <th>saldo_medio_var33_ult1</th>\n",
       "      <th>saldo_medio_var33_ult3</th>\n",
       "      <th>saldo_medio_var44_hace2</th>\n",
       "      <th>saldo_medio_var44_hace3</th>\n",
       "      <th>saldo_medio_var44_ult1</th>\n",
       "      <th>saldo_medio_var44_ult3</th>\n",
       "      <th>var38</th>\n",
       "      <th>TARGET</th>\n",
       "    </tr>\n",
       "  </thead>\n",
       "  <tbody>\n",
       "    <tr>\n",
       "      <th>0</th>\n",
       "      <td>1</td>\n",
       "      <td>2</td>\n",
       "      <td>23</td>\n",
       "      <td>0.0</td>\n",
       "      <td>0.0</td>\n",
       "      <td>0.0</td>\n",
       "      <td>0.0</td>\n",
       "      <td>0.0</td>\n",
       "      <td>0.0</td>\n",
       "      <td>0.0</td>\n",
       "      <td>...</td>\n",
       "      <td>0.0</td>\n",
       "      <td>0.0</td>\n",
       "      <td>0.0</td>\n",
       "      <td>0.0</td>\n",
       "      <td>0.0</td>\n",
       "      <td>0.0</td>\n",
       "      <td>0.0</td>\n",
       "      <td>0.0</td>\n",
       "      <td>39205.170000</td>\n",
       "      <td>0</td>\n",
       "    </tr>\n",
       "    <tr>\n",
       "      <th>1</th>\n",
       "      <td>3</td>\n",
       "      <td>2</td>\n",
       "      <td>34</td>\n",
       "      <td>0.0</td>\n",
       "      <td>0.0</td>\n",
       "      <td>0.0</td>\n",
       "      <td>0.0</td>\n",
       "      <td>0.0</td>\n",
       "      <td>0.0</td>\n",
       "      <td>0.0</td>\n",
       "      <td>...</td>\n",
       "      <td>0.0</td>\n",
       "      <td>0.0</td>\n",
       "      <td>0.0</td>\n",
       "      <td>0.0</td>\n",
       "      <td>0.0</td>\n",
       "      <td>0.0</td>\n",
       "      <td>0.0</td>\n",
       "      <td>0.0</td>\n",
       "      <td>49278.030000</td>\n",
       "      <td>0</td>\n",
       "    </tr>\n",
       "    <tr>\n",
       "      <th>2</th>\n",
       "      <td>4</td>\n",
       "      <td>2</td>\n",
       "      <td>23</td>\n",
       "      <td>0.0</td>\n",
       "      <td>0.0</td>\n",
       "      <td>0.0</td>\n",
       "      <td>0.0</td>\n",
       "      <td>0.0</td>\n",
       "      <td>0.0</td>\n",
       "      <td>0.0</td>\n",
       "      <td>...</td>\n",
       "      <td>0.0</td>\n",
       "      <td>0.0</td>\n",
       "      <td>0.0</td>\n",
       "      <td>0.0</td>\n",
       "      <td>0.0</td>\n",
       "      <td>0.0</td>\n",
       "      <td>0.0</td>\n",
       "      <td>0.0</td>\n",
       "      <td>67333.770000</td>\n",
       "      <td>0</td>\n",
       "    </tr>\n",
       "    <tr>\n",
       "      <th>3</th>\n",
       "      <td>8</td>\n",
       "      <td>2</td>\n",
       "      <td>37</td>\n",
       "      <td>0.0</td>\n",
       "      <td>195.0</td>\n",
       "      <td>195.0</td>\n",
       "      <td>0.0</td>\n",
       "      <td>0.0</td>\n",
       "      <td>0.0</td>\n",
       "      <td>0.0</td>\n",
       "      <td>...</td>\n",
       "      <td>0.0</td>\n",
       "      <td>0.0</td>\n",
       "      <td>0.0</td>\n",
       "      <td>0.0</td>\n",
       "      <td>0.0</td>\n",
       "      <td>0.0</td>\n",
       "      <td>0.0</td>\n",
       "      <td>0.0</td>\n",
       "      <td>64007.970000</td>\n",
       "      <td>0</td>\n",
       "    </tr>\n",
       "    <tr>\n",
       "      <th>4</th>\n",
       "      <td>10</td>\n",
       "      <td>2</td>\n",
       "      <td>39</td>\n",
       "      <td>0.0</td>\n",
       "      <td>0.0</td>\n",
       "      <td>0.0</td>\n",
       "      <td>0.0</td>\n",
       "      <td>0.0</td>\n",
       "      <td>0.0</td>\n",
       "      <td>0.0</td>\n",
       "      <td>...</td>\n",
       "      <td>0.0</td>\n",
       "      <td>0.0</td>\n",
       "      <td>0.0</td>\n",
       "      <td>0.0</td>\n",
       "      <td>0.0</td>\n",
       "      <td>0.0</td>\n",
       "      <td>0.0</td>\n",
       "      <td>0.0</td>\n",
       "      <td>117310.979016</td>\n",
       "      <td>0</td>\n",
       "    </tr>\n",
       "  </tbody>\n",
       "</table>\n",
       "<p>5 rows × 371 columns</p>\n",
       "</div>"
      ],
      "text/plain": [
       "   ID  var3  var15  imp_ent_var16_ult1  imp_op_var39_comer_ult1  \\\n",
       "0   1     2     23                 0.0                      0.0   \n",
       "1   3     2     34                 0.0                      0.0   \n",
       "2   4     2     23                 0.0                      0.0   \n",
       "3   8     2     37                 0.0                    195.0   \n",
       "4  10     2     39                 0.0                      0.0   \n",
       "\n",
       "   imp_op_var39_comer_ult3  imp_op_var40_comer_ult1  imp_op_var40_comer_ult3  \\\n",
       "0                      0.0                      0.0                      0.0   \n",
       "1                      0.0                      0.0                      0.0   \n",
       "2                      0.0                      0.0                      0.0   \n",
       "3                    195.0                      0.0                      0.0   \n",
       "4                      0.0                      0.0                      0.0   \n",
       "\n",
       "   imp_op_var40_efect_ult1  imp_op_var40_efect_ult3  ...  \\\n",
       "0                      0.0                      0.0  ...   \n",
       "1                      0.0                      0.0  ...   \n",
       "2                      0.0                      0.0  ...   \n",
       "3                      0.0                      0.0  ...   \n",
       "4                      0.0                      0.0  ...   \n",
       "\n",
       "   saldo_medio_var33_hace2  saldo_medio_var33_hace3  saldo_medio_var33_ult1  \\\n",
       "0                      0.0                      0.0                     0.0   \n",
       "1                      0.0                      0.0                     0.0   \n",
       "2                      0.0                      0.0                     0.0   \n",
       "3                      0.0                      0.0                     0.0   \n",
       "4                      0.0                      0.0                     0.0   \n",
       "\n",
       "   saldo_medio_var33_ult3  saldo_medio_var44_hace2  saldo_medio_var44_hace3  \\\n",
       "0                     0.0                      0.0                      0.0   \n",
       "1                     0.0                      0.0                      0.0   \n",
       "2                     0.0                      0.0                      0.0   \n",
       "3                     0.0                      0.0                      0.0   \n",
       "4                     0.0                      0.0                      0.0   \n",
       "\n",
       "   saldo_medio_var44_ult1  saldo_medio_var44_ult3          var38  TARGET  \n",
       "0                     0.0                     0.0   39205.170000       0  \n",
       "1                     0.0                     0.0   49278.030000       0  \n",
       "2                     0.0                     0.0   67333.770000       0  \n",
       "3                     0.0                     0.0   64007.970000       0  \n",
       "4                     0.0                     0.0  117310.979016       0  \n",
       "\n",
       "[5 rows x 371 columns]"
      ]
     },
     "execution_count": 2,
     "metadata": {},
     "output_type": "execute_result"
    }
   ],
   "source": [
    "train_df = pd.read_csv('cust_satisfaction_train.csv')\n",
    "print(type(train_df))\n",
    "train_df.head()"
   ]
  },
  {
   "cell_type": "code",
   "execution_count": 3,
   "id": "xvX7kXC_AWko",
   "metadata": {
    "id": "xvX7kXC_AWko",
    "outputId": "c1940272-12c7-478b-f279-e23ccd53e125"
   },
   "outputs": [
    {
     "name": "stdout",
     "output_type": "stream",
     "text": [
      "<class 'pandas.core.frame.DataFrame'>\n"
     ]
    },
    {
     "data": {
      "text/html": [
       "<div>\n",
       "<style scoped>\n",
       "    .dataframe tbody tr th:only-of-type {\n",
       "        vertical-align: middle;\n",
       "    }\n",
       "\n",
       "    .dataframe tbody tr th {\n",
       "        vertical-align: top;\n",
       "    }\n",
       "\n",
       "    .dataframe thead th {\n",
       "        text-align: right;\n",
       "    }\n",
       "</style>\n",
       "<table border=\"1\" class=\"dataframe\">\n",
       "  <thead>\n",
       "    <tr style=\"text-align: right;\">\n",
       "      <th></th>\n",
       "      <th>ID</th>\n",
       "      <th>var3</th>\n",
       "      <th>var15</th>\n",
       "      <th>imp_ent_var16_ult1</th>\n",
       "      <th>imp_op_var39_comer_ult1</th>\n",
       "      <th>imp_op_var39_comer_ult3</th>\n",
       "      <th>imp_op_var40_comer_ult1</th>\n",
       "      <th>imp_op_var40_comer_ult3</th>\n",
       "      <th>imp_op_var40_efect_ult1</th>\n",
       "      <th>imp_op_var40_efect_ult3</th>\n",
       "      <th>...</th>\n",
       "      <th>saldo_medio_var29_ult3</th>\n",
       "      <th>saldo_medio_var33_hace2</th>\n",
       "      <th>saldo_medio_var33_hace3</th>\n",
       "      <th>saldo_medio_var33_ult1</th>\n",
       "      <th>saldo_medio_var33_ult3</th>\n",
       "      <th>saldo_medio_var44_hace2</th>\n",
       "      <th>saldo_medio_var44_hace3</th>\n",
       "      <th>saldo_medio_var44_ult1</th>\n",
       "      <th>saldo_medio_var44_ult3</th>\n",
       "      <th>var38</th>\n",
       "    </tr>\n",
       "  </thead>\n",
       "  <tbody>\n",
       "    <tr>\n",
       "      <th>0</th>\n",
       "      <td>2</td>\n",
       "      <td>2</td>\n",
       "      <td>32</td>\n",
       "      <td>0.0</td>\n",
       "      <td>0.0</td>\n",
       "      <td>0.0</td>\n",
       "      <td>0.0</td>\n",
       "      <td>0.0</td>\n",
       "      <td>0.0</td>\n",
       "      <td>0.0</td>\n",
       "      <td>...</td>\n",
       "      <td>0.0</td>\n",
       "      <td>0.0</td>\n",
       "      <td>0.0</td>\n",
       "      <td>0.0</td>\n",
       "      <td>0.0</td>\n",
       "      <td>0.0</td>\n",
       "      <td>0.0</td>\n",
       "      <td>0.0</td>\n",
       "      <td>0.0</td>\n",
       "      <td>40532.10</td>\n",
       "    </tr>\n",
       "    <tr>\n",
       "      <th>1</th>\n",
       "      <td>5</td>\n",
       "      <td>2</td>\n",
       "      <td>35</td>\n",
       "      <td>0.0</td>\n",
       "      <td>0.0</td>\n",
       "      <td>0.0</td>\n",
       "      <td>0.0</td>\n",
       "      <td>0.0</td>\n",
       "      <td>0.0</td>\n",
       "      <td>0.0</td>\n",
       "      <td>...</td>\n",
       "      <td>0.0</td>\n",
       "      <td>0.0</td>\n",
       "      <td>0.0</td>\n",
       "      <td>0.0</td>\n",
       "      <td>0.0</td>\n",
       "      <td>0.0</td>\n",
       "      <td>0.0</td>\n",
       "      <td>0.0</td>\n",
       "      <td>0.0</td>\n",
       "      <td>45486.72</td>\n",
       "    </tr>\n",
       "    <tr>\n",
       "      <th>2</th>\n",
       "      <td>6</td>\n",
       "      <td>2</td>\n",
       "      <td>23</td>\n",
       "      <td>0.0</td>\n",
       "      <td>0.0</td>\n",
       "      <td>0.0</td>\n",
       "      <td>0.0</td>\n",
       "      <td>0.0</td>\n",
       "      <td>0.0</td>\n",
       "      <td>0.0</td>\n",
       "      <td>...</td>\n",
       "      <td>0.0</td>\n",
       "      <td>0.0</td>\n",
       "      <td>0.0</td>\n",
       "      <td>0.0</td>\n",
       "      <td>0.0</td>\n",
       "      <td>0.0</td>\n",
       "      <td>0.0</td>\n",
       "      <td>0.0</td>\n",
       "      <td>0.0</td>\n",
       "      <td>46993.95</td>\n",
       "    </tr>\n",
       "    <tr>\n",
       "      <th>3</th>\n",
       "      <td>7</td>\n",
       "      <td>2</td>\n",
       "      <td>24</td>\n",
       "      <td>0.0</td>\n",
       "      <td>0.0</td>\n",
       "      <td>0.0</td>\n",
       "      <td>0.0</td>\n",
       "      <td>0.0</td>\n",
       "      <td>0.0</td>\n",
       "      <td>0.0</td>\n",
       "      <td>...</td>\n",
       "      <td>0.0</td>\n",
       "      <td>0.0</td>\n",
       "      <td>0.0</td>\n",
       "      <td>0.0</td>\n",
       "      <td>0.0</td>\n",
       "      <td>0.0</td>\n",
       "      <td>0.0</td>\n",
       "      <td>0.0</td>\n",
       "      <td>0.0</td>\n",
       "      <td>187898.61</td>\n",
       "    </tr>\n",
       "    <tr>\n",
       "      <th>4</th>\n",
       "      <td>9</td>\n",
       "      <td>2</td>\n",
       "      <td>23</td>\n",
       "      <td>0.0</td>\n",
       "      <td>0.0</td>\n",
       "      <td>0.0</td>\n",
       "      <td>0.0</td>\n",
       "      <td>0.0</td>\n",
       "      <td>0.0</td>\n",
       "      <td>0.0</td>\n",
       "      <td>...</td>\n",
       "      <td>0.0</td>\n",
       "      <td>0.0</td>\n",
       "      <td>0.0</td>\n",
       "      <td>0.0</td>\n",
       "      <td>0.0</td>\n",
       "      <td>0.0</td>\n",
       "      <td>0.0</td>\n",
       "      <td>0.0</td>\n",
       "      <td>0.0</td>\n",
       "      <td>73649.73</td>\n",
       "    </tr>\n",
       "  </tbody>\n",
       "</table>\n",
       "<p>5 rows × 370 columns</p>\n",
       "</div>"
      ],
      "text/plain": [
       "   ID  var3  var15  imp_ent_var16_ult1  imp_op_var39_comer_ult1  \\\n",
       "0   2     2     32                 0.0                      0.0   \n",
       "1   5     2     35                 0.0                      0.0   \n",
       "2   6     2     23                 0.0                      0.0   \n",
       "3   7     2     24                 0.0                      0.0   \n",
       "4   9     2     23                 0.0                      0.0   \n",
       "\n",
       "   imp_op_var39_comer_ult3  imp_op_var40_comer_ult1  imp_op_var40_comer_ult3  \\\n",
       "0                      0.0                      0.0                      0.0   \n",
       "1                      0.0                      0.0                      0.0   \n",
       "2                      0.0                      0.0                      0.0   \n",
       "3                      0.0                      0.0                      0.0   \n",
       "4                      0.0                      0.0                      0.0   \n",
       "\n",
       "   imp_op_var40_efect_ult1  imp_op_var40_efect_ult3  ...  \\\n",
       "0                      0.0                      0.0  ...   \n",
       "1                      0.0                      0.0  ...   \n",
       "2                      0.0                      0.0  ...   \n",
       "3                      0.0                      0.0  ...   \n",
       "4                      0.0                      0.0  ...   \n",
       "\n",
       "   saldo_medio_var29_ult3  saldo_medio_var33_hace2  saldo_medio_var33_hace3  \\\n",
       "0                     0.0                      0.0                      0.0   \n",
       "1                     0.0                      0.0                      0.0   \n",
       "2                     0.0                      0.0                      0.0   \n",
       "3                     0.0                      0.0                      0.0   \n",
       "4                     0.0                      0.0                      0.0   \n",
       "\n",
       "   saldo_medio_var33_ult1  saldo_medio_var33_ult3  saldo_medio_var44_hace2  \\\n",
       "0                     0.0                     0.0                      0.0   \n",
       "1                     0.0                     0.0                      0.0   \n",
       "2                     0.0                     0.0                      0.0   \n",
       "3                     0.0                     0.0                      0.0   \n",
       "4                     0.0                     0.0                      0.0   \n",
       "\n",
       "   saldo_medio_var44_hace3  saldo_medio_var44_ult1  saldo_medio_var44_ult3  \\\n",
       "0                      0.0                     0.0                     0.0   \n",
       "1                      0.0                     0.0                     0.0   \n",
       "2                      0.0                     0.0                     0.0   \n",
       "3                      0.0                     0.0                     0.0   \n",
       "4                      0.0                     0.0                     0.0   \n",
       "\n",
       "       var38  \n",
       "0   40532.10  \n",
       "1   45486.72  \n",
       "2   46993.95  \n",
       "3  187898.61  \n",
       "4   73649.73  \n",
       "\n",
       "[5 rows x 370 columns]"
      ]
     },
     "execution_count": 3,
     "metadata": {},
     "output_type": "execute_result"
    }
   ],
   "source": [
    "test_df = pd.read_csv('cust_satisfaction_test.csv')\n",
    "print(type(test_df))\n",
    "test_df.head()"
   ]
  },
  {
   "cell_type": "code",
   "execution_count": 4,
   "id": "xR7MAwjvAWkp",
   "metadata": {
    "id": "xR7MAwjvAWkp",
    "outputId": "700814f4-e182-4f55-e54e-2b57c089ce57"
   },
   "outputs": [
    {
     "name": "stdout",
     "output_type": "stream",
     "text": [
      "(76020, 371)\n",
      "(75818, 370)\n"
     ]
    }
   ],
   "source": [
    "print(train_df.shape)  # rows=76020, cols=371\n",
    "print(test_df.shape)   # rows=75818, cols=370"
   ]
  },
  {
   "cell_type": "markdown",
   "id": "VzugHnyFAWkp",
   "metadata": {
    "id": "VzugHnyFAWkp",
    "tags": []
   },
   "source": [
    "#### Handling Null values"
   ]
  },
  {
   "cell_type": "code",
   "execution_count": 5,
   "id": "cl6Ivjl8AWkp",
   "metadata": {
    "id": "cl6Ivjl8AWkp",
    "outputId": "fcfe1a26-3c0a-4a8f-d8fd-6beda5e0063a"
   },
   "outputs": [
    {
     "data": {
      "text/plain": [
       "Series([], dtype: int64)"
      ]
     },
     "execution_count": 5,
     "metadata": {},
     "output_type": "execute_result"
    }
   ],
   "source": [
    "# nv = null values\n",
    "nv_train = train_df.isnull().sum()\n",
    "nv_train = nv_train[nv_train>0]\n",
    "nv_train"
   ]
  },
  {
   "cell_type": "code",
   "execution_count": 6,
   "id": "8Ef1h94aAWkq",
   "metadata": {
    "id": "8Ef1h94aAWkq",
    "outputId": "2b4372df-66fd-439f-e3a7-141871d3ec37"
   },
   "outputs": [
    {
     "data": {
      "text/plain": [
       "Series([], dtype: int64)"
      ]
     },
     "execution_count": 6,
     "metadata": {},
     "output_type": "execute_result"
    }
   ],
   "source": [
    "nv_test = test_df.isnull().sum()\n",
    "nv_test = nv_test[nv_test>0]\n",
    "nv_test"
   ]
  },
  {
   "cell_type": "markdown",
   "id": "uvbpJ9fPAWkr",
   "metadata": {
    "id": "uvbpJ9fPAWkr"
   },
   "source": [
    "#### Checking Duplicates"
   ]
  },
  {
   "cell_type": "code",
   "execution_count": 7,
   "id": "yHsFIOhhAWkr",
   "metadata": {
    "id": "yHsFIOhhAWkr",
    "outputId": "3789a115-7578-418a-9691-47070a7765f6"
   },
   "outputs": [
    {
     "name": "stdout",
     "output_type": "stream",
     "text": [
      "0\n",
      "0\n"
     ]
    }
   ],
   "source": [
    "print(train_df.duplicated().sum())\n",
    "print(test_df.duplicated().sum())"
   ]
  },
  {
   "cell_type": "markdown",
   "id": "ZiSM3k5mAWkr",
   "metadata": {
    "id": "ZiSM3k5mAWkr"
   },
   "source": [
    "#### Checking Target variable"
   ]
  },
  {
   "cell_type": "code",
   "execution_count": 8,
   "id": "5xXQfwMMAWks",
   "metadata": {
    "id": "5xXQfwMMAWks",
    "outputId": "3095bdc5-8273-45b3-8177-276c14693965"
   },
   "outputs": [
    {
     "data": {
      "text/plain": [
       "Index(['ID', 'var3', 'var15', 'imp_ent_var16_ult1', 'imp_op_var39_comer_ult1',\n",
       "       'imp_op_var39_comer_ult3', 'imp_op_var40_comer_ult1',\n",
       "       'imp_op_var40_comer_ult3', 'imp_op_var40_efect_ult1',\n",
       "       'imp_op_var40_efect_ult3',\n",
       "       ...\n",
       "       'saldo_medio_var33_hace2', 'saldo_medio_var33_hace3',\n",
       "       'saldo_medio_var33_ult1', 'saldo_medio_var33_ult3',\n",
       "       'saldo_medio_var44_hace2', 'saldo_medio_var44_hace3',\n",
       "       'saldo_medio_var44_ult1', 'saldo_medio_var44_ult3', 'var38', 'TARGET'],\n",
       "      dtype='object', length=371)"
      ]
     },
     "execution_count": 8,
     "metadata": {},
     "output_type": "execute_result"
    }
   ],
   "source": [
    "train_df.columns"
   ]
  },
  {
   "cell_type": "code",
   "execution_count": 9,
   "id": "1RGtjoiRAWks",
   "metadata": {
    "id": "1RGtjoiRAWks",
    "outputId": "3da91f61-ac67-479d-fb38-80b033c55d90"
   },
   "outputs": [
    {
     "data": {
      "text/plain": [
       "0    73012\n",
       "1     3008\n",
       "Name: TARGET, dtype: int64"
      ]
     },
     "execution_count": 9,
     "metadata": {},
     "output_type": "execute_result"
    }
   ],
   "source": [
    "r = train_df['TARGET'].value_counts()\n",
    "r"
   ]
  },
  {
   "cell_type": "code",
   "execution_count": 10,
   "id": "cIC-WXuxAWks",
   "metadata": {
    "id": "cIC-WXuxAWks",
    "outputId": "a4d85b46-48dd-46ca-9033-6226282988b0"
   },
   "outputs": [
    {
     "data": {
      "image/png": "[encoded data removed]",
      "text/plain": [
       "<Figure size 640x480 with 1 Axes>"
      ]
     },
     "metadata": {},
     "output_type": "display_data"
    }
   ],
   "source": [
    "plt.bar(r.index,r)\n",
    "plt.xticks(r.index)\n",
    "plt.show()"
   ]
  },
  {
   "cell_type": "markdown",
   "id": "3uKw4-BIAWkt",
   "metadata": {
    "id": "3uKw4-BIAWkt"
   },
   "source": [
    "#### Checking Column having only single catgeory value\n",
    "Fetching and dropping the columns that has excatly a single values"
   ]
  },
  {
   "cell_type": "code",
   "execution_count": 11,
   "id": "Agmf76s5AWkt",
   "metadata": {
    "id": "Agmf76s5AWkt",
    "outputId": "3c5a3f56-9142-406e-acf9-2e75a142b29b"
   },
   "outputs": [
    {
     "name": "stdout",
     "output_type": "stream",
     "text": [
      "ind_var2_0\n",
      "ind_var2\n",
      "ind_var27_0\n",
      "ind_var28_0\n",
      "ind_var28\n",
      "ind_var27\n",
      "ind_var41\n",
      "ind_var46_0\n",
      "ind_var46\n",
      "num_var27_0\n",
      "num_var28_0\n",
      "num_var28\n",
      "num_var27\n",
      "num_var41\n",
      "num_var46_0\n",
      "num_var46\n",
      "saldo_var28\n",
      "saldo_var27\n",
      "saldo_var41\n",
      "saldo_var46\n",
      "imp_amort_var18_hace3\n",
      "imp_amort_var34_hace3\n",
      "imp_reemb_var13_hace3\n",
      "imp_reemb_var33_hace3\n",
      "imp_trasp_var17_out_hace3\n",
      "imp_trasp_var33_out_hace3\n",
      "num_var2_0_ult1\n",
      "num_var2_ult1\n",
      "num_reemb_var13_hace3\n",
      "num_reemb_var33_hace3\n",
      "num_trasp_var17_out_hace3\n",
      "num_trasp_var33_out_hace3\n",
      "saldo_var2_ult1\n",
      "saldo_medio_var13_medio_hace3\n"
     ]
    }
   ],
   "source": [
    "for i in train_df.columns:    # i refers to the column in train_df\n",
    "    if train_df[i].nunique() == 1:\n",
    "        print(i)\n",
    "        train_df.drop(i, inplace = True, axis = 1)\n",
    "        test_df.drop(i, inplace = True, axis = 1)"
   ]
  },
  {
   "cell_type": "code",
   "execution_count": 12,
   "id": "JTGFu61YAWkt",
   "metadata": {
    "id": "JTGFu61YAWkt",
    "outputId": "1f125b61-c7fc-4406-871f-0ebda7641250"
   },
   "outputs": [
    {
     "name": "stdout",
     "output_type": "stream",
     "text": [
      "(76020, 337)\n",
      "(75818, 336)\n"
     ]
    }
   ],
   "source": [
    "print(train_df.shape)\n",
    "print(test_df.shape)"
   ]
  },
  {
   "cell_type": "markdown",
   "id": "nAmnv-Q1AWku",
   "metadata": {
    "id": "nAmnv-Q1AWku"
   },
   "source": [
    "#### EDA"
   ]
  },
  {
   "cell_type": "markdown",
   "id": "ZpZg20fxAWku",
   "metadata": {
    "id": "ZpZg20fxAWku"
   },
   "source": [
    "#### Plotting boxplot for the 16 features of train_data"
   ]
  },
  {
   "cell_type": "code",
   "execution_count": 13,
   "id": "RMF0l84IAWku",
   "metadata": {
    "id": "RMF0l84IAWku",
    "outputId": "b35183e9-8be1-4f2b-d6cb-9cf29865bcc6"
   },
   "outputs": [
    {
     "data": {
      "image/png": "[encoded data removed]",
      "text/plain": [
       "<Figure size 1500x1500 with 16 Axes>"
      ]
     },
     "metadata": {},
     "output_type": "display_data"
    }
   ],
   "source": [
    "plt.figure(figsize = (15,15))\n",
    "for i in range(16):\n",
    "    plt.subplot(4,4, i+1)\n",
    "    sns.boxplot(x=train_df.iloc[:,i])   # detect outliers\n",
    "    plt.title(train_df.columns[i], size = 10)\n",
    "plt.show()"
   ]
  },
  {
   "cell_type": "code",
   "execution_count": 14,
   "id": "n_TrUC_RAWku",
   "metadata": {
    "id": "n_TrUC_RAWku",
    "outputId": "9e8ccee6-cf57-41f4-8753-a09149dbc5be"
   },
   "outputs": [
    {
     "data": {
      "text/plain": [
       "Index(['ID', 'var3', 'var15', 'imp_ent_var16_ult1', 'imp_op_var39_comer_ult1',\n",
       "       'imp_op_var39_comer_ult3', 'imp_op_var40_comer_ult1',\n",
       "       'imp_op_var40_comer_ult3', 'imp_op_var40_efect_ult1',\n",
       "       'imp_op_var40_efect_ult3',\n",
       "       ...\n",
       "       'saldo_medio_var33_hace2', 'saldo_medio_var33_hace3',\n",
       "       'saldo_medio_var33_ult1', 'saldo_medio_var33_ult3',\n",
       "       'saldo_medio_var44_hace2', 'saldo_medio_var44_hace3',\n",
       "       'saldo_medio_var44_ult1', 'saldo_medio_var44_ult3', 'var38', 'TARGET'],\n",
       "      dtype='object', length=337)"
      ]
     },
     "execution_count": 14,
     "metadata": {},
     "output_type": "execute_result"
    }
   ],
   "source": [
    "train_df.columns"
   ]
  },
  {
   "cell_type": "code",
   "execution_count": 15,
   "id": "rqp3psYqAWku",
   "metadata": {
    "id": "rqp3psYqAWku",
    "outputId": "b9fd605e-6490-4ff2-99a9-8b57247dc52b"
   },
   "outputs": [
    {
     "data": {
      "text/plain": [
       "Index(['ID', 'var3', 'var15', 'imp_ent_var16_ult1', 'imp_op_var39_comer_ult1',\n",
       "       'imp_op_var39_comer_ult3', 'imp_op_var40_comer_ult1',\n",
       "       'imp_op_var40_comer_ult3', 'imp_op_var40_efect_ult1',\n",
       "       'imp_op_var40_efect_ult3',\n",
       "       ...\n",
       "       'saldo_medio_var29_ult3', 'saldo_medio_var33_hace2',\n",
       "       'saldo_medio_var33_hace3', 'saldo_medio_var33_ult1',\n",
       "       'saldo_medio_var33_ult3', 'saldo_medio_var44_hace2',\n",
       "       'saldo_medio_var44_hace3', 'saldo_medio_var44_ult1',\n",
       "       'saldo_medio_var44_ult3', 'var38'],\n",
       "      dtype='object', length=336)"
      ]
     },
     "execution_count": 15,
     "metadata": {},
     "output_type": "execute_result"
    }
   ],
   "source": [
    "test_df.columns"
   ]
  },
  {
   "cell_type": "markdown",
   "id": "HqZsP8SwAWkv",
   "metadata": {
    "id": "HqZsP8SwAWkv"
   },
   "source": [
    "#### Univariate Statistical Analysis"
   ]
  },
  {
   "cell_type": "code",
   "execution_count": 16,
   "id": "fnwtc42HAWkv",
   "metadata": {
    "id": "fnwtc42HAWkv",
    "outputId": "1755c1d8-cd07-4fc8-b305-99fbf4070cd0"
   },
   "outputs": [
    {
     "data": {
      "text/html": [
       "<div>\n",
       "<style scoped>\n",
       "    .dataframe tbody tr th:only-of-type {\n",
       "        vertical-align: middle;\n",
       "    }\n",
       "\n",
       "    .dataframe tbody tr th {\n",
       "        vertical-align: top;\n",
       "    }\n",
       "\n",
       "    .dataframe thead th {\n",
       "        text-align: right;\n",
       "    }\n",
       "</style>\n",
       "<table border=\"1\" class=\"dataframe\">\n",
       "  <thead>\n",
       "    <tr style=\"text-align: right;\">\n",
       "      <th></th>\n",
       "      <th>ID</th>\n",
       "      <th>var3</th>\n",
       "      <th>var15</th>\n",
       "      <th>imp_ent_var16_ult1</th>\n",
       "      <th>imp_op_var39_comer_ult1</th>\n",
       "      <th>imp_op_var39_comer_ult3</th>\n",
       "      <th>imp_op_var40_comer_ult1</th>\n",
       "      <th>imp_op_var40_comer_ult3</th>\n",
       "      <th>imp_op_var40_efect_ult1</th>\n",
       "      <th>imp_op_var40_efect_ult3</th>\n",
       "      <th>...</th>\n",
       "      <th>saldo_medio_var33_hace2</th>\n",
       "      <th>saldo_medio_var33_hace3</th>\n",
       "      <th>saldo_medio_var33_ult1</th>\n",
       "      <th>saldo_medio_var33_ult3</th>\n",
       "      <th>saldo_medio_var44_hace2</th>\n",
       "      <th>saldo_medio_var44_hace3</th>\n",
       "      <th>saldo_medio_var44_ult1</th>\n",
       "      <th>saldo_medio_var44_ult3</th>\n",
       "      <th>var38</th>\n",
       "      <th>TARGET</th>\n",
       "    </tr>\n",
       "  </thead>\n",
       "  <tbody>\n",
       "    <tr>\n",
       "      <th>count</th>\n",
       "      <td>76020.000000</td>\n",
       "      <td>76020.000000</td>\n",
       "      <td>76020.000000</td>\n",
       "      <td>76020.000000</td>\n",
       "      <td>76020.000000</td>\n",
       "      <td>76020.000000</td>\n",
       "      <td>76020.000000</td>\n",
       "      <td>76020.000000</td>\n",
       "      <td>76020.000000</td>\n",
       "      <td>76020.000000</td>\n",
       "      <td>...</td>\n",
       "      <td>76020.000000</td>\n",
       "      <td>76020.000000</td>\n",
       "      <td>76020.000000</td>\n",
       "      <td>76020.000000</td>\n",
       "      <td>76020.000000</td>\n",
       "      <td>76020.000000</td>\n",
       "      <td>76020.000000</td>\n",
       "      <td>76020.000000</td>\n",
       "      <td>7.602000e+04</td>\n",
       "      <td>76020.000000</td>\n",
       "    </tr>\n",
       "    <tr>\n",
       "      <th>mean</th>\n",
       "      <td>75964.050723</td>\n",
       "      <td>-1523.199277</td>\n",
       "      <td>33.212865</td>\n",
       "      <td>86.208265</td>\n",
       "      <td>72.363067</td>\n",
       "      <td>119.529632</td>\n",
       "      <td>3.559130</td>\n",
       "      <td>6.472698</td>\n",
       "      <td>0.412946</td>\n",
       "      <td>0.567352</td>\n",
       "      <td>...</td>\n",
       "      <td>7.935824</td>\n",
       "      <td>1.365146</td>\n",
       "      <td>12.215580</td>\n",
       "      <td>8.784074</td>\n",
       "      <td>31.505324</td>\n",
       "      <td>1.858575</td>\n",
       "      <td>76.026165</td>\n",
       "      <td>56.614351</td>\n",
       "      <td>1.172358e+05</td>\n",
       "      <td>0.039569</td>\n",
       "    </tr>\n",
       "    <tr>\n",
       "      <th>std</th>\n",
       "      <td>43781.947379</td>\n",
       "      <td>39033.462364</td>\n",
       "      <td>12.956486</td>\n",
       "      <td>1614.757313</td>\n",
       "      <td>339.315831</td>\n",
       "      <td>546.266294</td>\n",
       "      <td>93.155749</td>\n",
       "      <td>153.737066</td>\n",
       "      <td>30.604864</td>\n",
       "      <td>36.513513</td>\n",
       "      <td>...</td>\n",
       "      <td>455.887218</td>\n",
       "      <td>113.959637</td>\n",
       "      <td>783.207399</td>\n",
       "      <td>538.439211</td>\n",
       "      <td>2013.125393</td>\n",
       "      <td>147.786584</td>\n",
       "      <td>4040.337842</td>\n",
       "      <td>2852.579397</td>\n",
       "      <td>1.826646e+05</td>\n",
       "      <td>0.194945</td>\n",
       "    </tr>\n",
       "    <tr>\n",
       "      <th>min</th>\n",
       "      <td>1.000000</td>\n",
       "      <td>-999999.000000</td>\n",
       "      <td>5.000000</td>\n",
       "      <td>0.000000</td>\n",
       "      <td>0.000000</td>\n",
       "      <td>0.000000</td>\n",
       "      <td>0.000000</td>\n",
       "      <td>0.000000</td>\n",
       "      <td>0.000000</td>\n",
       "      <td>0.000000</td>\n",
       "      <td>...</td>\n",
       "      <td>0.000000</td>\n",
       "      <td>0.000000</td>\n",
       "      <td>0.000000</td>\n",
       "      <td>0.000000</td>\n",
       "      <td>0.000000</td>\n",
       "      <td>0.000000</td>\n",
       "      <td>0.000000</td>\n",
       "      <td>0.000000</td>\n",
       "      <td>5.163750e+03</td>\n",
       "      <td>0.000000</td>\n",
       "    </tr>\n",
       "    <tr>\n",
       "      <th>25%</th>\n",
       "      <td>38104.750000</td>\n",
       "      <td>2.000000</td>\n",
       "      <td>23.000000</td>\n",
       "      <td>0.000000</td>\n",
       "      <td>0.000000</td>\n",
       "      <td>0.000000</td>\n",
       "      <td>0.000000</td>\n",
       "      <td>0.000000</td>\n",
       "      <td>0.000000</td>\n",
       "      <td>0.000000</td>\n",
       "      <td>...</td>\n",
       "      <td>0.000000</td>\n",
       "      <td>0.000000</td>\n",
       "      <td>0.000000</td>\n",
       "      <td>0.000000</td>\n",
       "      <td>0.000000</td>\n",
       "      <td>0.000000</td>\n",
       "      <td>0.000000</td>\n",
       "      <td>0.000000</td>\n",
       "      <td>6.787061e+04</td>\n",
       "      <td>0.000000</td>\n",
       "    </tr>\n",
       "    <tr>\n",
       "      <th>50%</th>\n",
       "      <td>76043.000000</td>\n",
       "      <td>2.000000</td>\n",
       "      <td>28.000000</td>\n",
       "      <td>0.000000</td>\n",
       "      <td>0.000000</td>\n",
       "      <td>0.000000</td>\n",
       "      <td>0.000000</td>\n",
       "      <td>0.000000</td>\n",
       "      <td>0.000000</td>\n",
       "      <td>0.000000</td>\n",
       "      <td>...</td>\n",
       "      <td>0.000000</td>\n",
       "      <td>0.000000</td>\n",
       "      <td>0.000000</td>\n",
       "      <td>0.000000</td>\n",
       "      <td>0.000000</td>\n",
       "      <td>0.000000</td>\n",
       "      <td>0.000000</td>\n",
       "      <td>0.000000</td>\n",
       "      <td>1.064092e+05</td>\n",
       "      <td>0.000000</td>\n",
       "    </tr>\n",
       "    <tr>\n",
       "      <th>75%</th>\n",
       "      <td>113748.750000</td>\n",
       "      <td>2.000000</td>\n",
       "      <td>40.000000</td>\n",
       "      <td>0.000000</td>\n",
       "      <td>0.000000</td>\n",
       "      <td>0.000000</td>\n",
       "      <td>0.000000</td>\n",
       "      <td>0.000000</td>\n",
       "      <td>0.000000</td>\n",
       "      <td>0.000000</td>\n",
       "      <td>...</td>\n",
       "      <td>0.000000</td>\n",
       "      <td>0.000000</td>\n",
       "      <td>0.000000</td>\n",
       "      <td>0.000000</td>\n",
       "      <td>0.000000</td>\n",
       "      <td>0.000000</td>\n",
       "      <td>0.000000</td>\n",
       "      <td>0.000000</td>\n",
       "      <td>1.187563e+05</td>\n",
       "      <td>0.000000</td>\n",
       "    </tr>\n",
       "    <tr>\n",
       "      <th>max</th>\n",
       "      <td>151838.000000</td>\n",
       "      <td>238.000000</td>\n",
       "      <td>105.000000</td>\n",
       "      <td>210000.000000</td>\n",
       "      <td>12888.030000</td>\n",
       "      <td>21024.810000</td>\n",
       "      <td>8237.820000</td>\n",
       "      <td>11073.570000</td>\n",
       "      <td>6600.000000</td>\n",
       "      <td>6600.000000</td>\n",
       "      <td>...</td>\n",
       "      <td>50003.880000</td>\n",
       "      <td>20385.720000</td>\n",
       "      <td>138831.630000</td>\n",
       "      <td>91778.730000</td>\n",
       "      <td>438329.220000</td>\n",
       "      <td>24650.010000</td>\n",
       "      <td>681462.900000</td>\n",
       "      <td>397884.300000</td>\n",
       "      <td>2.203474e+07</td>\n",
       "      <td>1.000000</td>\n",
       "    </tr>\n",
       "  </tbody>\n",
       "</table>\n",
       "<p>8 rows × 337 columns</p>\n",
       "</div>"
      ],
      "text/plain": [
       "                  ID           var3         var15  imp_ent_var16_ult1  \\\n",
       "count   76020.000000   76020.000000  76020.000000        76020.000000   \n",
       "mean    75964.050723   -1523.199277     33.212865           86.208265   \n",
       "std     43781.947379   39033.462364     12.956486         1614.757313   \n",
       "min         1.000000 -999999.000000      5.000000            0.000000   \n",
       "25%     38104.750000       2.000000     23.000000            0.000000   \n",
       "50%     76043.000000       2.000000     28.000000            0.000000   \n",
       "75%    113748.750000       2.000000     40.000000            0.000000   \n",
       "max    151838.000000     238.000000    105.000000       210000.000000   \n",
       "\n",
       "       imp_op_var39_comer_ult1  imp_op_var39_comer_ult3  \\\n",
       "count             76020.000000             76020.000000   \n",
       "mean                 72.363067               119.529632   \n",
       "std                 339.315831               546.266294   \n",
       "min                   0.000000                 0.000000   \n",
       "25%                   0.000000                 0.000000   \n",
       "50%                   0.000000                 0.000000   \n",
       "75%                   0.000000                 0.000000   \n",
       "max               12888.030000             21024.810000   \n",
       "\n",
       "       imp_op_var40_comer_ult1  imp_op_var40_comer_ult3  \\\n",
       "count             76020.000000             76020.000000   \n",
       "mean                  3.559130                 6.472698   \n",
       "std                  93.155749               153.737066   \n",
       "min                   0.000000                 0.000000   \n",
       "25%                   0.000000                 0.000000   \n",
       "50%                   0.000000                 0.000000   \n",
       "75%                   0.000000                 0.000000   \n",
       "max                8237.820000             11073.570000   \n",
       "\n",
       "       imp_op_var40_efect_ult1  imp_op_var40_efect_ult3  ...  \\\n",
       "count             76020.000000             76020.000000  ...   \n",
       "mean                  0.412946                 0.567352  ...   \n",
       "std                  30.604864                36.513513  ...   \n",
       "min                   0.000000                 0.000000  ...   \n",
       "25%                   0.000000                 0.000000  ...   \n",
       "50%                   0.000000                 0.000000  ...   \n",
       "75%                   0.000000                 0.000000  ...   \n",
       "max                6600.000000              6600.000000  ...   \n",
       "\n",
       "       saldo_medio_var33_hace2  saldo_medio_var33_hace3  \\\n",
       "count             76020.000000             76020.000000   \n",
       "mean                  7.935824                 1.365146   \n",
       "std                 455.887218               113.959637   \n",
       "min                   0.000000                 0.000000   \n",
       "25%                   0.000000                 0.000000   \n",
       "50%                   0.000000                 0.000000   \n",
       "75%                   0.000000                 0.000000   \n",
       "max               50003.880000             20385.720000   \n",
       "\n",
       "       saldo_medio_var33_ult1  saldo_medio_var33_ult3  \\\n",
       "count            76020.000000            76020.000000   \n",
       "mean                12.215580                8.784074   \n",
       "std                783.207399              538.439211   \n",
       "min                  0.000000                0.000000   \n",
       "25%                  0.000000                0.000000   \n",
       "50%                  0.000000                0.000000   \n",
       "75%                  0.000000                0.000000   \n",
       "max             138831.630000            91778.730000   \n",
       "\n",
       "       saldo_medio_var44_hace2  saldo_medio_var44_hace3  \\\n",
       "count             76020.000000             76020.000000   \n",
       "mean                 31.505324                 1.858575   \n",
       "std                2013.125393               147.786584   \n",
       "min                   0.000000                 0.000000   \n",
       "25%                   0.000000                 0.000000   \n",
       "50%                   0.000000                 0.000000   \n",
       "75%                   0.000000                 0.000000   \n",
       "max              438329.220000             24650.010000   \n",
       "\n",
       "       saldo_medio_var44_ult1  saldo_medio_var44_ult3         var38  \\\n",
       "count            76020.000000            76020.000000  7.602000e+04   \n",
       "mean                76.026165               56.614351  1.172358e+05   \n",
       "std               4040.337842             2852.579397  1.826646e+05   \n",
       "min                  0.000000                0.000000  5.163750e+03   \n",
       "25%                  0.000000                0.000000  6.787061e+04   \n",
       "50%                  0.000000                0.000000  1.064092e+05   \n",
       "75%                  0.000000                0.000000  1.187563e+05   \n",
       "max             681462.900000           397884.300000  2.203474e+07   \n",
       "\n",
       "             TARGET  \n",
       "count  76020.000000  \n",
       "mean       0.039569  \n",
       "std        0.194945  \n",
       "min        0.000000  \n",
       "25%        0.000000  \n",
       "50%        0.000000  \n",
       "75%        0.000000  \n",
       "max        1.000000  \n",
       "\n",
       "[8 rows x 337 columns]"
      ]
     },
     "execution_count": 16,
     "metadata": {},
     "output_type": "execute_result"
    }
   ],
   "source": [
    "train_df.describe()"
   ]
  },
  {
   "cell_type": "code",
   "execution_count": 17,
   "id": "NNjLrUg8AWkv",
   "metadata": {
    "id": "NNjLrUg8AWkv",
    "outputId": "d401380a-d2c1-4da7-954f-cb7e977241bc"
   },
   "outputs": [
    {
     "data": {
      "text/html": [
       "<div>\n",
       "<style scoped>\n",
       "    .dataframe tbody tr th:only-of-type {\n",
       "        vertical-align: middle;\n",
       "    }\n",
       "\n",
       "    .dataframe tbody tr th {\n",
       "        vertical-align: top;\n",
       "    }\n",
       "\n",
       "    .dataframe thead th {\n",
       "        text-align: right;\n",
       "    }\n",
       "</style>\n",
       "<table border=\"1\" class=\"dataframe\">\n",
       "  <thead>\n",
       "    <tr style=\"text-align: right;\">\n",
       "      <th></th>\n",
       "      <th>ID</th>\n",
       "      <th>var3</th>\n",
       "      <th>var15</th>\n",
       "      <th>imp_ent_var16_ult1</th>\n",
       "      <th>imp_op_var39_comer_ult1</th>\n",
       "      <th>imp_op_var39_comer_ult3</th>\n",
       "      <th>imp_op_var40_comer_ult1</th>\n",
       "      <th>imp_op_var40_comer_ult3</th>\n",
       "      <th>imp_op_var40_efect_ult1</th>\n",
       "      <th>imp_op_var40_efect_ult3</th>\n",
       "      <th>...</th>\n",
       "      <th>saldo_medio_var29_ult3</th>\n",
       "      <th>saldo_medio_var33_hace2</th>\n",
       "      <th>saldo_medio_var33_hace3</th>\n",
       "      <th>saldo_medio_var33_ult1</th>\n",
       "      <th>saldo_medio_var33_ult3</th>\n",
       "      <th>saldo_medio_var44_hace2</th>\n",
       "      <th>saldo_medio_var44_hace3</th>\n",
       "      <th>saldo_medio_var44_ult1</th>\n",
       "      <th>saldo_medio_var44_ult3</th>\n",
       "      <th>var38</th>\n",
       "    </tr>\n",
       "  </thead>\n",
       "  <tbody>\n",
       "    <tr>\n",
       "      <th>count</th>\n",
       "      <td>75818.000000</td>\n",
       "      <td>75818.000000</td>\n",
       "      <td>75818.000000</td>\n",
       "      <td>75818.000000</td>\n",
       "      <td>75818.000000</td>\n",
       "      <td>75818.000000</td>\n",
       "      <td>75818.000000</td>\n",
       "      <td>75818.000000</td>\n",
       "      <td>75818.000000</td>\n",
       "      <td>75818.000000</td>\n",
       "      <td>...</td>\n",
       "      <td>75818.000000</td>\n",
       "      <td>75818.000000</td>\n",
       "      <td>75818.000000</td>\n",
       "      <td>75818.000000</td>\n",
       "      <td>75818.000000</td>\n",
       "      <td>75818.000000</td>\n",
       "      <td>75818.000000</td>\n",
       "      <td>75818.000000</td>\n",
       "      <td>75818.000000</td>\n",
       "      <td>7.581800e+04</td>\n",
       "    </tr>\n",
       "    <tr>\n",
       "      <th>mean</th>\n",
       "      <td>75874.830581</td>\n",
       "      <td>-1579.955011</td>\n",
       "      <td>33.138832</td>\n",
       "      <td>83.164329</td>\n",
       "      <td>74.312894</td>\n",
       "      <td>123.136448</td>\n",
       "      <td>4.578517</td>\n",
       "      <td>7.666855</td>\n",
       "      <td>0.470645</td>\n",
       "      <td>0.672444</td>\n",
       "      <td>...</td>\n",
       "      <td>0.160595</td>\n",
       "      <td>12.438559</td>\n",
       "      <td>1.327408</td>\n",
       "      <td>17.469991</td>\n",
       "      <td>12.674349</td>\n",
       "      <td>63.597839</td>\n",
       "      <td>11.404505</td>\n",
       "      <td>95.973025</td>\n",
       "      <td>70.504319</td>\n",
       "      <td>1.173863e+05</td>\n",
       "    </tr>\n",
       "    <tr>\n",
       "      <th>std</th>\n",
       "      <td>43882.370827</td>\n",
       "      <td>39752.473358</td>\n",
       "      <td>12.932000</td>\n",
       "      <td>1694.873886</td>\n",
       "      <td>364.211245</td>\n",
       "      <td>606.431562</td>\n",
       "      <td>133.383326</td>\n",
       "      <td>239.701416</td>\n",
       "      <td>34.028605</td>\n",
       "      <td>42.336668</td>\n",
       "      <td>...</td>\n",
       "      <td>32.441677</td>\n",
       "      <td>958.651673</td>\n",
       "      <td>170.449935</td>\n",
       "      <td>1252.618781</td>\n",
       "      <td>895.165516</td>\n",
       "      <td>3754.668953</td>\n",
       "      <td>1061.858193</td>\n",
       "      <td>4658.871575</td>\n",
       "      <td>3318.527783</td>\n",
       "      <td>2.479384e+05</td>\n",
       "    </tr>\n",
       "    <tr>\n",
       "      <th>min</th>\n",
       "      <td>2.000000</td>\n",
       "      <td>-999999.000000</td>\n",
       "      <td>5.000000</td>\n",
       "      <td>0.000000</td>\n",
       "      <td>0.000000</td>\n",
       "      <td>0.000000</td>\n",
       "      <td>0.000000</td>\n",
       "      <td>0.000000</td>\n",
       "      <td>0.000000</td>\n",
       "      <td>0.000000</td>\n",
       "      <td>...</td>\n",
       "      <td>0.000000</td>\n",
       "      <td>0.000000</td>\n",
       "      <td>0.000000</td>\n",
       "      <td>-0.600000</td>\n",
       "      <td>-0.600000</td>\n",
       "      <td>0.000000</td>\n",
       "      <td>0.000000</td>\n",
       "      <td>0.000000</td>\n",
       "      <td>0.000000</td>\n",
       "      <td>1.202730e+03</td>\n",
       "    </tr>\n",
       "    <tr>\n",
       "      <th>25%</th>\n",
       "      <td>37840.250000</td>\n",
       "      <td>2.000000</td>\n",
       "      <td>23.000000</td>\n",
       "      <td>0.000000</td>\n",
       "      <td>0.000000</td>\n",
       "      <td>0.000000</td>\n",
       "      <td>0.000000</td>\n",
       "      <td>0.000000</td>\n",
       "      <td>0.000000</td>\n",
       "      <td>0.000000</td>\n",
       "      <td>...</td>\n",
       "      <td>0.000000</td>\n",
       "      <td>0.000000</td>\n",
       "      <td>0.000000</td>\n",
       "      <td>0.000000</td>\n",
       "      <td>0.000000</td>\n",
       "      <td>0.000000</td>\n",
       "      <td>0.000000</td>\n",
       "      <td>0.000000</td>\n",
       "      <td>0.000000</td>\n",
       "      <td>6.754961e+04</td>\n",
       "    </tr>\n",
       "    <tr>\n",
       "      <th>50%</th>\n",
       "      <td>75810.000000</td>\n",
       "      <td>2.000000</td>\n",
       "      <td>27.000000</td>\n",
       "      <td>0.000000</td>\n",
       "      <td>0.000000</td>\n",
       "      <td>0.000000</td>\n",
       "      <td>0.000000</td>\n",
       "      <td>0.000000</td>\n",
       "      <td>0.000000</td>\n",
       "      <td>0.000000</td>\n",
       "      <td>...</td>\n",
       "      <td>0.000000</td>\n",
       "      <td>0.000000</td>\n",
       "      <td>0.000000</td>\n",
       "      <td>0.000000</td>\n",
       "      <td>0.000000</td>\n",
       "      <td>0.000000</td>\n",
       "      <td>0.000000</td>\n",
       "      <td>0.000000</td>\n",
       "      <td>0.000000</td>\n",
       "      <td>1.057643e+05</td>\n",
       "    </tr>\n",
       "    <tr>\n",
       "      <th>75%</th>\n",
       "      <td>113996.500000</td>\n",
       "      <td>2.000000</td>\n",
       "      <td>39.000000</td>\n",
       "      <td>0.000000</td>\n",
       "      <td>0.000000</td>\n",
       "      <td>0.000000</td>\n",
       "      <td>0.000000</td>\n",
       "      <td>0.000000</td>\n",
       "      <td>0.000000</td>\n",
       "      <td>0.000000</td>\n",
       "      <td>...</td>\n",
       "      <td>0.000000</td>\n",
       "      <td>0.000000</td>\n",
       "      <td>0.000000</td>\n",
       "      <td>0.000000</td>\n",
       "      <td>0.000000</td>\n",
       "      <td>0.000000</td>\n",
       "      <td>0.000000</td>\n",
       "      <td>0.000000</td>\n",
       "      <td>0.000000</td>\n",
       "      <td>1.183159e+05</td>\n",
       "    </tr>\n",
       "    <tr>\n",
       "      <th>max</th>\n",
       "      <td>151837.000000</td>\n",
       "      <td>238.000000</td>\n",
       "      <td>105.000000</td>\n",
       "      <td>240000.000000</td>\n",
       "      <td>21093.960000</td>\n",
       "      <td>47943.960000</td>\n",
       "      <td>21093.960000</td>\n",
       "      <td>47943.960000</td>\n",
       "      <td>6600.000000</td>\n",
       "      <td>6600.000000</td>\n",
       "      <td>...</td>\n",
       "      <td>8030.160000</td>\n",
       "      <td>146605.320000</td>\n",
       "      <td>40080.600000</td>\n",
       "      <td>162355.800000</td>\n",
       "      <td>138054.960000</td>\n",
       "      <td>453893.400000</td>\n",
       "      <td>217762.230000</td>\n",
       "      <td>496198.080000</td>\n",
       "      <td>354260.730000</td>\n",
       "      <td>2.889440e+07</td>\n",
       "    </tr>\n",
       "  </tbody>\n",
       "</table>\n",
       "<p>8 rows × 336 columns</p>\n",
       "</div>"
      ],
      "text/plain": [
       "                  ID           var3         var15  imp_ent_var16_ult1  \\\n",
       "count   75818.000000   75818.000000  75818.000000        75818.000000   \n",
       "mean    75874.830581   -1579.955011     33.138832           83.164329   \n",
       "std     43882.370827   39752.473358     12.932000         1694.873886   \n",
       "min         2.000000 -999999.000000      5.000000            0.000000   \n",
       "25%     37840.250000       2.000000     23.000000            0.000000   \n",
       "50%     75810.000000       2.000000     27.000000            0.000000   \n",
       "75%    113996.500000       2.000000     39.000000            0.000000   \n",
       "max    151837.000000     238.000000    105.000000       240000.000000   \n",
       "\n",
       "       imp_op_var39_comer_ult1  imp_op_var39_comer_ult3  \\\n",
       "count             75818.000000             75818.000000   \n",
       "mean                 74.312894               123.136448   \n",
       "std                 364.211245               606.431562   \n",
       "min                   0.000000                 0.000000   \n",
       "25%                   0.000000                 0.000000   \n",
       "50%                   0.000000                 0.000000   \n",
       "75%                   0.000000                 0.000000   \n",
       "max               21093.960000             47943.960000   \n",
       "\n",
       "       imp_op_var40_comer_ult1  imp_op_var40_comer_ult3  \\\n",
       "count             75818.000000             75818.000000   \n",
       "mean                  4.578517                 7.666855   \n",
       "std                 133.383326               239.701416   \n",
       "min                   0.000000                 0.000000   \n",
       "25%                   0.000000                 0.000000   \n",
       "50%                   0.000000                 0.000000   \n",
       "75%                   0.000000                 0.000000   \n",
       "max               21093.960000             47943.960000   \n",
       "\n",
       "       imp_op_var40_efect_ult1  imp_op_var40_efect_ult3  ...  \\\n",
       "count             75818.000000             75818.000000  ...   \n",
       "mean                  0.470645                 0.672444  ...   \n",
       "std                  34.028605                42.336668  ...   \n",
       "min                   0.000000                 0.000000  ...   \n",
       "25%                   0.000000                 0.000000  ...   \n",
       "50%                   0.000000                 0.000000  ...   \n",
       "75%                   0.000000                 0.000000  ...   \n",
       "max                6600.000000              6600.000000  ...   \n",
       "\n",
       "       saldo_medio_var29_ult3  saldo_medio_var33_hace2  \\\n",
       "count            75818.000000             75818.000000   \n",
       "mean                 0.160595                12.438559   \n",
       "std                 32.441677               958.651673   \n",
       "min                  0.000000                 0.000000   \n",
       "25%                  0.000000                 0.000000   \n",
       "50%                  0.000000                 0.000000   \n",
       "75%                  0.000000                 0.000000   \n",
       "max               8030.160000            146605.320000   \n",
       "\n",
       "       saldo_medio_var33_hace3  saldo_medio_var33_ult1  \\\n",
       "count             75818.000000            75818.000000   \n",
       "mean                  1.327408               17.469991   \n",
       "std                 170.449935             1252.618781   \n",
       "min                   0.000000               -0.600000   \n",
       "25%                   0.000000                0.000000   \n",
       "50%                   0.000000                0.000000   \n",
       "75%                   0.000000                0.000000   \n",
       "max               40080.600000           162355.800000   \n",
       "\n",
       "       saldo_medio_var33_ult3  saldo_medio_var44_hace2  \\\n",
       "count            75818.000000             75818.000000   \n",
       "mean                12.674349                63.597839   \n",
       "std                895.165516              3754.668953   \n",
       "min                 -0.600000                 0.000000   \n",
       "25%                  0.000000                 0.000000   \n",
       "50%                  0.000000                 0.000000   \n",
       "75%                  0.000000                 0.000000   \n",
       "max             138054.960000            453893.400000   \n",
       "\n",
       "       saldo_medio_var44_hace3  saldo_medio_var44_ult1  \\\n",
       "count             75818.000000            75818.000000   \n",
       "mean                 11.404505               95.973025   \n",
       "std                1061.858193             4658.871575   \n",
       "min                   0.000000                0.000000   \n",
       "25%                   0.000000                0.000000   \n",
       "50%                   0.000000                0.000000   \n",
       "75%                   0.000000                0.000000   \n",
       "max              217762.230000           496198.080000   \n",
       "\n",
       "       saldo_medio_var44_ult3         var38  \n",
       "count            75818.000000  7.581800e+04  \n",
       "mean                70.504319  1.173863e+05  \n",
       "std               3318.527783  2.479384e+05  \n",
       "min                  0.000000  1.202730e+03  \n",
       "25%                  0.000000  6.754961e+04  \n",
       "50%                  0.000000  1.057643e+05  \n",
       "75%                  0.000000  1.183159e+05  \n",
       "max             354260.730000  2.889440e+07  \n",
       "\n",
       "[8 rows x 336 columns]"
      ]
     },
     "execution_count": 17,
     "metadata": {},
     "output_type": "execute_result"
    }
   ],
   "source": [
    "test_df.describe()"
   ]
  },
  {
   "cell_type": "markdown",
   "id": "dAGlddfiAWkv",
   "metadata": {
    "id": "dAGlddfiAWkv"
   },
   "source": [
    "#### Checking datatypes in train and test datasets"
   ]
  },
  {
   "cell_type": "code",
   "execution_count": 18,
   "id": "fHb1wj24AWkv",
   "metadata": {
    "id": "fHb1wj24AWkv",
    "outputId": "2dad8327-2f00-4607-f93b-0387f203adf2"
   },
   "outputs": [
    {
     "data": {
      "text/plain": [
       "int64      226\n",
       "float64    111\n",
       "dtype: int64"
      ]
     },
     "execution_count": 18,
     "metadata": {},
     "output_type": "execute_result"
    }
   ],
   "source": [
    "train_df.dtypes.value_counts()"
   ]
  },
  {
   "cell_type": "code",
   "execution_count": 19,
   "id": "56KB6L3iAWkw",
   "metadata": {
    "id": "56KB6L3iAWkw",
    "outputId": "2967eeed-0203-4f82-8316-d5eb8257b564"
   },
   "outputs": [
    {
     "data": {
      "text/plain": [
       "int64      226\n",
       "float64    110\n",
       "dtype: int64"
      ]
     },
     "execution_count": 19,
     "metadata": {},
     "output_type": "execute_result"
    }
   ],
   "source": [
    "test_df.dtypes.value_counts()"
   ]
  },
  {
   "cell_type": "markdown",
   "id": "SyvGt__AAWkw",
   "metadata": {
    "id": "SyvGt__AAWkw"
   },
   "source": [
    "#### Selecting Features using Correlation"
   ]
  },
  {
   "cell_type": "code",
   "execution_count": 20,
   "id": "v0NZJ5rLAWkw",
   "metadata": {
    "id": "v0NZJ5rLAWkw",
    "outputId": "4c0443ec-7ac4-43ac-c595-36427e5aa596"
   },
   "outputs": [
    {
     "data": {
      "text/html": [
       "<div>\n",
       "<style scoped>\n",
       "    .dataframe tbody tr th:only-of-type {\n",
       "        vertical-align: middle;\n",
       "    }\n",
       "\n",
       "    .dataframe tbody tr th {\n",
       "        vertical-align: top;\n",
       "    }\n",
       "\n",
       "    .dataframe thead th {\n",
       "        text-align: right;\n",
       "    }\n",
       "</style>\n",
       "<table border=\"1\" class=\"dataframe\">\n",
       "  <thead>\n",
       "    <tr style=\"text-align: right;\">\n",
       "      <th></th>\n",
       "      <th>ID</th>\n",
       "      <th>var3</th>\n",
       "      <th>var15</th>\n",
       "      <th>imp_ent_var16_ult1</th>\n",
       "      <th>imp_op_var39_comer_ult1</th>\n",
       "      <th>imp_op_var39_comer_ult3</th>\n",
       "      <th>imp_op_var40_comer_ult1</th>\n",
       "      <th>imp_op_var40_comer_ult3</th>\n",
       "      <th>imp_op_var40_efect_ult1</th>\n",
       "      <th>imp_op_var40_efect_ult3</th>\n",
       "      <th>...</th>\n",
       "      <th>saldo_medio_var33_hace2</th>\n",
       "      <th>saldo_medio_var33_hace3</th>\n",
       "      <th>saldo_medio_var33_ult1</th>\n",
       "      <th>saldo_medio_var33_ult3</th>\n",
       "      <th>saldo_medio_var44_hace2</th>\n",
       "      <th>saldo_medio_var44_hace3</th>\n",
       "      <th>saldo_medio_var44_ult1</th>\n",
       "      <th>saldo_medio_var44_ult3</th>\n",
       "      <th>var38</th>\n",
       "      <th>TARGET</th>\n",
       "    </tr>\n",
       "  </thead>\n",
       "  <tbody>\n",
       "    <tr>\n",
       "      <th>ID</th>\n",
       "      <td>1.000000</td>\n",
       "      <td>-0.001025</td>\n",
       "      <td>-0.002135</td>\n",
       "      <td>-0.003111</td>\n",
       "      <td>-0.001436</td>\n",
       "      <td>-0.004131</td>\n",
       "      <td>-0.007277</td>\n",
       "      <td>-0.006302</td>\n",
       "      <td>-0.006700</td>\n",
       "      <td>-0.006698</td>\n",
       "      <td>...</td>\n",
       "      <td>0.001986</td>\n",
       "      <td>0.003771</td>\n",
       "      <td>-0.001521</td>\n",
       "      <td>-0.001216</td>\n",
       "      <td>-0.003772</td>\n",
       "      <td>-0.003674</td>\n",
       "      <td>-0.000856</td>\n",
       "      <td>0.000297</td>\n",
       "      <td>-0.005687</td>\n",
       "      <td>0.003148</td>\n",
       "    </tr>\n",
       "    <tr>\n",
       "      <th>var3</th>\n",
       "      <td>-0.001025</td>\n",
       "      <td>1.000000</td>\n",
       "      <td>-0.004452</td>\n",
       "      <td>0.001868</td>\n",
       "      <td>0.005989</td>\n",
       "      <td>0.006817</td>\n",
       "      <td>0.001518</td>\n",
       "      <td>0.001690</td>\n",
       "      <td>0.000530</td>\n",
       "      <td>0.000611</td>\n",
       "      <td>...</td>\n",
       "      <td>0.000716</td>\n",
       "      <td>0.000491</td>\n",
       "      <td>0.000638</td>\n",
       "      <td>0.000669</td>\n",
       "      <td>0.000617</td>\n",
       "      <td>0.000508</td>\n",
       "      <td>0.000738</td>\n",
       "      <td>0.000778</td>\n",
       "      <td>0.000071</td>\n",
       "      <td>0.004475</td>\n",
       "    </tr>\n",
       "    <tr>\n",
       "      <th>var15</th>\n",
       "      <td>-0.002135</td>\n",
       "      <td>-0.004452</td>\n",
       "      <td>1.000000</td>\n",
       "      <td>0.043722</td>\n",
       "      <td>0.094762</td>\n",
       "      <td>0.101177</td>\n",
       "      <td>0.042754</td>\n",
       "      <td>0.048512</td>\n",
       "      <td>0.008805</td>\n",
       "      <td>0.009678</td>\n",
       "      <td>...</td>\n",
       "      <td>0.029358</td>\n",
       "      <td>0.017264</td>\n",
       "      <td>0.028504</td>\n",
       "      <td>0.029176</td>\n",
       "      <td>0.029180</td>\n",
       "      <td>0.018884</td>\n",
       "      <td>0.032833</td>\n",
       "      <td>0.033597</td>\n",
       "      <td>0.006497</td>\n",
       "      <td>0.101322</td>\n",
       "    </tr>\n",
       "    <tr>\n",
       "      <th>imp_ent_var16_ult1</th>\n",
       "      <td>-0.003111</td>\n",
       "      <td>0.001868</td>\n",
       "      <td>0.043722</td>\n",
       "      <td>1.000000</td>\n",
       "      <td>0.041221</td>\n",
       "      <td>0.034879</td>\n",
       "      <td>0.009896</td>\n",
       "      <td>0.009377</td>\n",
       "      <td>0.000592</td>\n",
       "      <td>0.002510</td>\n",
       "      <td>...</td>\n",
       "      <td>-0.000864</td>\n",
       "      <td>-0.000632</td>\n",
       "      <td>-0.000548</td>\n",
       "      <td>-0.000540</td>\n",
       "      <td>0.002655</td>\n",
       "      <td>-0.000612</td>\n",
       "      <td>0.005055</td>\n",
       "      <td>0.006590</td>\n",
       "      <td>0.000007</td>\n",
       "      <td>-0.000017</td>\n",
       "    </tr>\n",
       "    <tr>\n",
       "      <th>imp_op_var39_comer_ult1</th>\n",
       "      <td>-0.001436</td>\n",
       "      <td>0.005989</td>\n",
       "      <td>0.094762</td>\n",
       "      <td>0.041221</td>\n",
       "      <td>1.000000</td>\n",
       "      <td>0.886476</td>\n",
       "      <td>0.342709</td>\n",
       "      <td>0.295295</td>\n",
       "      <td>0.032280</td>\n",
       "      <td>0.054809</td>\n",
       "      <td>...</td>\n",
       "      <td>0.016422</td>\n",
       "      <td>0.011719</td>\n",
       "      <td>0.012570</td>\n",
       "      <td>0.013703</td>\n",
       "      <td>0.009445</td>\n",
       "      <td>0.005532</td>\n",
       "      <td>0.011665</td>\n",
       "      <td>0.010802</td>\n",
       "      <td>0.012546</td>\n",
       "      <td>0.010353</td>\n",
       "    </tr>\n",
       "    <tr>\n",
       "      <th>...</th>\n",
       "      <td>...</td>\n",
       "      <td>...</td>\n",
       "      <td>...</td>\n",
       "      <td>...</td>\n",
       "      <td>...</td>\n",
       "      <td>...</td>\n",
       "      <td>...</td>\n",
       "      <td>...</td>\n",
       "      <td>...</td>\n",
       "      <td>...</td>\n",
       "      <td>...</td>\n",
       "      <td>...</td>\n",
       "      <td>...</td>\n",
       "      <td>...</td>\n",
       "      <td>...</td>\n",
       "      <td>...</td>\n",
       "      <td>...</td>\n",
       "      <td>...</td>\n",
       "      <td>...</td>\n",
       "      <td>...</td>\n",
       "      <td>...</td>\n",
       "    </tr>\n",
       "    <tr>\n",
       "      <th>saldo_medio_var44_hace3</th>\n",
       "      <td>-0.003674</td>\n",
       "      <td>0.000508</td>\n",
       "      <td>0.018884</td>\n",
       "      <td>-0.000612</td>\n",
       "      <td>0.005532</td>\n",
       "      <td>0.006359</td>\n",
       "      <td>-0.000480</td>\n",
       "      <td>-0.000529</td>\n",
       "      <td>-0.000170</td>\n",
       "      <td>-0.000195</td>\n",
       "      <td>...</td>\n",
       "      <td>-0.000219</td>\n",
       "      <td>-0.000151</td>\n",
       "      <td>-0.000196</td>\n",
       "      <td>-0.000205</td>\n",
       "      <td>0.332172</td>\n",
       "      <td>1.000000</td>\n",
       "      <td>0.229158</td>\n",
       "      <td>0.213191</td>\n",
       "      <td>0.003646</td>\n",
       "      <td>-0.002553</td>\n",
       "    </tr>\n",
       "    <tr>\n",
       "      <th>saldo_medio_var44_ult1</th>\n",
       "      <td>-0.000856</td>\n",
       "      <td>0.000738</td>\n",
       "      <td>0.032833</td>\n",
       "      <td>0.005055</td>\n",
       "      <td>0.011665</td>\n",
       "      <td>0.010660</td>\n",
       "      <td>-0.000254</td>\n",
       "      <td>-0.000510</td>\n",
       "      <td>-0.000254</td>\n",
       "      <td>-0.000292</td>\n",
       "      <td>...</td>\n",
       "      <td>0.000819</td>\n",
       "      <td>-0.000225</td>\n",
       "      <td>0.002493</td>\n",
       "      <td>0.002205</td>\n",
       "      <td>0.818300</td>\n",
       "      <td>0.229158</td>\n",
       "      <td>1.000000</td>\n",
       "      <td>0.968167</td>\n",
       "      <td>0.003258</td>\n",
       "      <td>-0.003104</td>\n",
       "    </tr>\n",
       "    <tr>\n",
       "      <th>saldo_medio_var44_ult3</th>\n",
       "      <td>0.000297</td>\n",
       "      <td>0.000778</td>\n",
       "      <td>0.033597</td>\n",
       "      <td>0.006590</td>\n",
       "      <td>0.010802</td>\n",
       "      <td>0.009822</td>\n",
       "      <td>-0.000372</td>\n",
       "      <td>-0.000601</td>\n",
       "      <td>-0.000268</td>\n",
       "      <td>-0.000308</td>\n",
       "      <td>...</td>\n",
       "      <td>0.000977</td>\n",
       "      <td>-0.000238</td>\n",
       "      <td>0.002905</td>\n",
       "      <td>0.002574</td>\n",
       "      <td>0.710593</td>\n",
       "      <td>0.213191</td>\n",
       "      <td>0.968167</td>\n",
       "      <td>1.000000</td>\n",
       "      <td>0.003037</td>\n",
       "      <td>-0.003015</td>\n",
       "    </tr>\n",
       "    <tr>\n",
       "      <th>var38</th>\n",
       "      <td>-0.005687</td>\n",
       "      <td>0.000071</td>\n",
       "      <td>0.006497</td>\n",
       "      <td>0.000007</td>\n",
       "      <td>0.012546</td>\n",
       "      <td>0.013271</td>\n",
       "      <td>0.016628</td>\n",
       "      <td>0.015584</td>\n",
       "      <td>-0.000315</td>\n",
       "      <td>0.000682</td>\n",
       "      <td>...</td>\n",
       "      <td>0.004448</td>\n",
       "      <td>0.001605</td>\n",
       "      <td>0.004255</td>\n",
       "      <td>0.004290</td>\n",
       "      <td>0.002889</td>\n",
       "      <td>0.003646</td>\n",
       "      <td>0.003258</td>\n",
       "      <td>0.003037</td>\n",
       "      <td>1.000000</td>\n",
       "      <td>-0.019510</td>\n",
       "    </tr>\n",
       "    <tr>\n",
       "      <th>TARGET</th>\n",
       "      <td>0.003148</td>\n",
       "      <td>0.004475</td>\n",
       "      <td>0.101322</td>\n",
       "      <td>-0.000017</td>\n",
       "      <td>0.010353</td>\n",
       "      <td>0.003517</td>\n",
       "      <td>0.003119</td>\n",
       "      <td>-0.000358</td>\n",
       "      <td>0.019221</td>\n",
       "      <td>0.019965</td>\n",
       "      <td>...</td>\n",
       "      <td>-0.003533</td>\n",
       "      <td>-0.002431</td>\n",
       "      <td>-0.003166</td>\n",
       "      <td>-0.003311</td>\n",
       "      <td>-0.003177</td>\n",
       "      <td>-0.002553</td>\n",
       "      <td>-0.003104</td>\n",
       "      <td>-0.003015</td>\n",
       "      <td>-0.019510</td>\n",
       "      <td>1.000000</td>\n",
       "    </tr>\n",
       "  </tbody>\n",
       "</table>\n",
       "<p>337 rows × 337 columns</p>\n",
       "</div>"
      ],
      "text/plain": [
       "                               ID      var3     var15  imp_ent_var16_ult1  \\\n",
       "ID                       1.000000 -0.001025 -0.002135           -0.003111   \n",
       "var3                    -0.001025  1.000000 -0.004452            0.001868   \n",
       "var15                   -0.002135 -0.004452  1.000000            0.043722   \n",
       "imp_ent_var16_ult1      -0.003111  0.001868  0.043722            1.000000   \n",
       "imp_op_var39_comer_ult1 -0.001436  0.005989  0.094762            0.041221   \n",
       "...                           ...       ...       ...                 ...   \n",
       "saldo_medio_var44_hace3 -0.003674  0.000508  0.018884           -0.000612   \n",
       "saldo_medio_var44_ult1  -0.000856  0.000738  0.032833            0.005055   \n",
       "saldo_medio_var44_ult3   0.000297  0.000778  0.033597            0.006590   \n",
       "var38                   -0.005687  0.000071  0.006497            0.000007   \n",
       "TARGET                   0.003148  0.004475  0.101322           -0.000017   \n",
       "\n",
       "                         imp_op_var39_comer_ult1  imp_op_var39_comer_ult3  \\\n",
       "ID                                     -0.001436                -0.004131   \n",
       "var3                                    0.005989                 0.006817   \n",
       "var15                                   0.094762                 0.101177   \n",
       "imp_ent_var16_ult1                      0.041221                 0.034879   \n",
       "imp_op_var39_comer_ult1                 1.000000                 0.886476   \n",
       "...                                          ...                      ...   \n",
       "saldo_medio_var44_hace3                 0.005532                 0.006359   \n",
       "saldo_medio_var44_ult1                  0.011665                 0.010660   \n",
       "saldo_medio_var44_ult3                  0.010802                 0.009822   \n",
       "var38                                   0.012546                 0.013271   \n",
       "TARGET                                  0.010353                 0.003517   \n",
       "\n",
       "                         imp_op_var40_comer_ult1  imp_op_var40_comer_ult3  \\\n",
       "ID                                     -0.007277                -0.006302   \n",
       "var3                                    0.001518                 0.001690   \n",
       "var15                                   0.042754                 0.048512   \n",
       "imp_ent_var16_ult1                      0.009896                 0.009377   \n",
       "imp_op_var39_comer_ult1                 0.342709                 0.295295   \n",
       "...                                          ...                      ...   \n",
       "saldo_medio_var44_hace3                -0.000480                -0.000529   \n",
       "saldo_medio_var44_ult1                 -0.000254                -0.000510   \n",
       "saldo_medio_var44_ult3                 -0.000372                -0.000601   \n",
       "var38                                   0.016628                 0.015584   \n",
       "TARGET                                  0.003119                -0.000358   \n",
       "\n",
       "                         imp_op_var40_efect_ult1  imp_op_var40_efect_ult3  \\\n",
       "ID                                     -0.006700                -0.006698   \n",
       "var3                                    0.000530                 0.000611   \n",
       "var15                                   0.008805                 0.009678   \n",
       "imp_ent_var16_ult1                      0.000592                 0.002510   \n",
       "imp_op_var39_comer_ult1                 0.032280                 0.054809   \n",
       "...                                          ...                      ...   \n",
       "saldo_medio_var44_hace3                -0.000170                -0.000195   \n",
       "saldo_medio_var44_ult1                 -0.000254                -0.000292   \n",
       "saldo_medio_var44_ult3                 -0.000268                -0.000308   \n",
       "var38                                  -0.000315                 0.000682   \n",
       "TARGET                                  0.019221                 0.019965   \n",
       "\n",
       "                         ...  saldo_medio_var33_hace2  \\\n",
       "ID                       ...                 0.001986   \n",
       "var3                     ...                 0.000716   \n",
       "var15                    ...                 0.029358   \n",
       "imp_ent_var16_ult1       ...                -0.000864   \n",
       "imp_op_var39_comer_ult1  ...                 0.016422   \n",
       "...                      ...                      ...   \n",
       "saldo_medio_var44_hace3  ...                -0.000219   \n",
       "saldo_medio_var44_ult1   ...                 0.000819   \n",
       "saldo_medio_var44_ult3   ...                 0.000977   \n",
       "var38                    ...                 0.004448   \n",
       "TARGET                   ...                -0.003533   \n",
       "\n",
       "                         saldo_medio_var33_hace3  saldo_medio_var33_ult1  \\\n",
       "ID                                      0.003771               -0.001521   \n",
       "var3                                    0.000491                0.000638   \n",
       "var15                                   0.017264                0.028504   \n",
       "imp_ent_var16_ult1                     -0.000632               -0.000548   \n",
       "imp_op_var39_comer_ult1                 0.011719                0.012570   \n",
       "...                                          ...                     ...   \n",
       "saldo_medio_var44_hace3                -0.000151               -0.000196   \n",
       "saldo_medio_var44_ult1                 -0.000225                0.002493   \n",
       "saldo_medio_var44_ult3                 -0.000238                0.002905   \n",
       "var38                                   0.001605                0.004255   \n",
       "TARGET                                 -0.002431               -0.003166   \n",
       "\n",
       "                         saldo_medio_var33_ult3  saldo_medio_var44_hace2  \\\n",
       "ID                                    -0.001216                -0.003772   \n",
       "var3                                   0.000669                 0.000617   \n",
       "var15                                  0.029176                 0.029180   \n",
       "imp_ent_var16_ult1                    -0.000540                 0.002655   \n",
       "imp_op_var39_comer_ult1                0.013703                 0.009445   \n",
       "...                                         ...                      ...   \n",
       "saldo_medio_var44_hace3               -0.000205                 0.332172   \n",
       "saldo_medio_var44_ult1                 0.002205                 0.818300   \n",
       "saldo_medio_var44_ult3                 0.002574                 0.710593   \n",
       "var38                                  0.004290                 0.002889   \n",
       "TARGET                                -0.003311                -0.003177   \n",
       "\n",
       "                         saldo_medio_var44_hace3  saldo_medio_var44_ult1  \\\n",
       "ID                                     -0.003674               -0.000856   \n",
       "var3                                    0.000508                0.000738   \n",
       "var15                                   0.018884                0.032833   \n",
       "imp_ent_var16_ult1                     -0.000612                0.005055   \n",
       "imp_op_var39_comer_ult1                 0.005532                0.011665   \n",
       "...                                          ...                     ...   \n",
       "saldo_medio_var44_hace3                 1.000000                0.229158   \n",
       "saldo_medio_var44_ult1                  0.229158                1.000000   \n",
       "saldo_medio_var44_ult3                  0.213191                0.968167   \n",
       "var38                                   0.003646                0.003258   \n",
       "TARGET                                 -0.002553               -0.003104   \n",
       "\n",
       "                         saldo_medio_var44_ult3     var38    TARGET  \n",
       "ID                                     0.000297 -0.005687  0.003148  \n",
       "var3                                   0.000778  0.000071  0.004475  \n",
       "var15                                  0.033597  0.006497  0.101322  \n",
       "imp_ent_var16_ult1                     0.006590  0.000007 -0.000017  \n",
       "imp_op_var39_comer_ult1                0.010802  0.012546  0.010353  \n",
       "...                                         ...       ...       ...  \n",
       "saldo_medio_var44_hace3                0.213191  0.003646 -0.002553  \n",
       "saldo_medio_var44_ult1                 0.968167  0.003258 -0.003104  \n",
       "saldo_medio_var44_ult3                 1.000000  0.003037 -0.003015  \n",
       "var38                                  0.003037  1.000000 -0.019510  \n",
       "TARGET                                -0.003015 -0.019510  1.000000  \n",
       "\n",
       "[337 rows x 337 columns]"
      ]
     },
     "execution_count": 20,
     "metadata": {},
     "output_type": "execute_result"
    }
   ],
   "source": [
    "corr_train = train_df.corr()\n",
    "corr_train"
   ]
  },
  {
   "cell_type": "code",
   "execution_count": 21,
   "id": "FsYyjAeXAWkw",
   "metadata": {
    "id": "FsYyjAeXAWkw",
    "outputId": "fed0f99f-8dd8-4aaf-b7b7-9c08089e59dc"
   },
   "outputs": [
    {
     "name": "stdout",
     "output_type": "stream",
     "text": [
      "Features with high correlation  ['saldo_medio_var13_medio_ult1', 'saldo_medio_var17_hace3', 'ind_var13_medio', 'num_var37_0', 'saldo_var32', 'num_var8', 'num_op_var39_comer_ult3', 'saldo_medio_var12_ult3', 'saldo_medio_var44_ult3', 'num_reemb_var13_ult1', 'num_op_var41_comer_ult1', 'delta_imp_amort_var18_1y3', 'ind_var17', 'num_var45_hace2', 'num_meses_var13_corto_ult3', 'imp_trasp_var33_out_ult1', 'saldo_var29', 'saldo_var6', 'delta_num_venta_var44_1y3', 'saldo_medio_var29_ult1', 'num_var13_largo_0', 'saldo_var31', 'ind_var37', 'num_var13_largo', 'num_var29_0', 'imp_op_var41_comer_ult3', 'num_trasp_var33_in_ult1', 'num_var14', 'saldo_var34', 'num_meses_var5_ult3', 'saldo_medio_var33_ult1', 'num_var33', 'num_var13_medio', 'num_op_var41_efect_ult3', 'num_var29', 'ind_var26_0', 'num_meses_var12_ult3', 'imp_op_var40_comer_ult3', 'ind_var39', 'saldo_medio_var8_ult3', 'saldo_var40', 'ind_var37_0', 'num_var34_0', 'num_var32_0', 'delta_num_compra_var44_1y3', 'num_trasp_var17_out_ult1', 'num_var20', 'saldo_medio_var13_largo_ult1', 'ind_var18', 'num_op_var40_efect_ult1', 'saldo_medio_var17_ult3', 'num_var30', 'imp_op_var39_efect_ult3', 'saldo_var24', 'imp_op_var39_efect_ult1', 'num_var1_0', 'num_var40', 'ind_var29_0', 'ind_var9_cte_ult1', 'num_op_var39_hace2', 'saldo_medio_var17_ult1', 'ind_var33', 'ind_var13_largo', 'ind_var10cte_ult1', 'num_op_var39_efect_ult1', 'ind_var34', 'ind_var13', 'num_var44', 'num_var13_corto_0', 'delta_num_trasp_var17_out_1y3', 'num_var5_0', 'num_var31', 'num_var7_emit_ult1', 'ind_var31', 'ind_var40', 'num_trasp_var33_out_ult1', 'num_var34', 'num_op_var40_ult3', 'ind_var26', 'ind_var44', 'num_op_var39_ult1', 'num_var39', 'num_var18', 'num_var26', 'num_var32', 'ind_var32', 'num_meses_var33_ult3', 'saldo_medio_var13_medio_hace2', 'num_reemb_var33_ult1', 'num_op_var40_comer_ult3', 'num_trasp_var17_in_ult1', 'saldo_medio_var13_corto_hace2', 'ind_var9_ult1', 'imp_venta_var44_ult1', 'imp_op_var39_comer_ult3', 'ind_var25', 'num_meses_var17_ult3', 'num_var26_0', 'num_trasp_var33_in_hace3', 'ind_var20', 'ind_var41_0', 'num_var20_0', 'num_var12', 'num_var13_corto', 'saldo_medio_var44_ult1', 'num_var45_ult3', 'num_var24_0', 'delta_num_reemb_var33_1y3', 'num_var40_0', 'imp_aport_var17_hace3', 'saldo_medio_var8_ult1', 'saldo_medio_var13_medio_ult3', 'saldo_medio_var13_corto_ult3', 'ind_var10_ult1', 'saldo_medio_var13_largo_ult3', 'num_var25', 'ind_var25_0', 'delta_num_trasp_var17_in_1y3', 'saldo_medio_var33_ult3', 'num_op_var39_efect_ult3', 'imp_op_var41_comer_ult1', 'imp_op_var40_efect_ult3', 'num_meses_var13_medio_ult3', 'num_var6_0', 'delta_num_aport_var33_1y3', 'num_var39_0', 'ind_var29', 'num_var7_recib_ult1', 'ind_var26_cte', 'delta_imp_amort_var34_1y3', 'ind_var24', 'num_meses_var8_ult3', 'delta_num_trasp_var33_in_1y3', 'delta_num_trasp_var33_out_1y3', 'num_var13_0', 'num_var45_ult1', 'num_var18_0', 'imp_op_var39_ult1', 'ind_var40_0', 'saldo_var13_medio', 'num_op_var41_comer_ult3', 'imp_amort_var34_ult1', 'saldo_var42', 'ind_var13_corto', 'num_var41_0', 'ind_var8', 'num_op_var40_efect_ult3', 'num_var25_0', 'num_var42_0', 'saldo_var13', 'num_op_var39_ult3', 'imp_reemb_var33_ult1', 'num_trasp_var17_in_hace3', 'num_var1', 'num_venta_var44_hace3', 'num_var6', 'num_op_var39_comer_ult1', 'saldo_medio_var17_hace2', 'num_var8_0', 'delta_num_reemb_var17_1y3', 'num_var24', 'ind_var24_0', 'saldo_var18', 'num_var37', 'num_var12_0', 'num_var44_0', 'delta_num_reemb_var13_1y3', 'delta_num_aport_var17_1y3', 'ind_var13_corto_0', 'num_reemb_var17_hace3', 'num_var33_0', 'imp_amort_var18_ult1', 'num_var13', 'saldo_medio_var29_ult3', 'saldo_medio_var12_hace2', 'num_var13_medio_0', 'imp_op_var41_ult1', 'num_meses_var44_ult3', 'num_op_var39_hace3', 'num_var42', 'saldo_var25', 'ind_var32_0', 'num_var17', 'num_op_var41_ult3', 'num_var35', 'saldo_medio_var12_ult1', 'num_med_var22_ult3', 'saldo_medio_var13_corto_ult1', 'num_var31_0', 'num_var5', 'delta_num_aport_var13_1y3']\n"
     ]
    }
   ],
   "source": [
    "def correlation(dataset, threshold):\n",
    "    col_corr = set()\n",
    "    corr_matrix = dataset.corr()   # correlation matrix\n",
    "    for i in range(len(corr_matrix.columns)):  # i is the index\n",
    "        for j in range(i):\n",
    "            if(corr_matrix.iloc[i,j]) > threshold:\n",
    "                colname = corr_matrix.columns[i]\n",
    "                col_corr.add(colname)\n",
    "    return list(col_corr)\n",
    "\n",
    "corr_features = correlation(train_df, 0.85)\n",
    "print(\"Features with high correlation \", corr_features)"
   ]
  },
  {
   "cell_type": "code",
   "execution_count": 22,
   "id": "LMNSwrUaAWkw",
   "metadata": {
    "id": "LMNSwrUaAWkw",
    "outputId": "e2af8a87-10d7-4b70-d69d-937acad863db"
   },
   "outputs": [
    {
     "name": "stdout",
     "output_type": "stream",
     "text": [
      "191\n"
     ]
    }
   ],
   "source": [
    "print(len(corr_features))"
   ]
  },
  {
   "cell_type": "code",
   "execution_count": 23,
   "id": "2nR1-sfBAWkw",
   "metadata": {
    "id": "2nR1-sfBAWkw",
    "outputId": "cccfa7f2-a33a-47b2-86fa-b6fa243da335"
   },
   "outputs": [
    {
     "name": "stdout",
     "output_type": "stream",
     "text": [
      "(76020, 146)\n",
      "(75818, 145)\n"
     ]
    }
   ],
   "source": [
    "train_df.drop(columns=corr_features, axis=1, inplace=True)\n",
    "test_df.drop(columns=corr_features, axis=1, inplace=True)\n",
    "print(train_df.shape)\n",
    "print(test_df.shape)"
   ]
  },
  {
   "cell_type": "markdown",
   "id": "ugIXbSqfAWkw",
   "metadata": {
    "id": "ugIXbSqfAWkw"
   },
   "source": [
    "#### Dropping ID column"
   ]
  },
  {
   "cell_type": "code",
   "execution_count": 24,
   "id": "d3kYJ6YrAWkx",
   "metadata": {
    "id": "d3kYJ6YrAWkx",
    "outputId": "e4271577-20b9-41f3-be5d-339543495faa"
   },
   "outputs": [
    {
     "name": "stdout",
     "output_type": "stream",
     "text": [
      "(76020, 146)\n"
     ]
    }
   ],
   "source": [
    "train_df1 = train_df.copy()\n",
    "print(train_df1.shape)"
   ]
  },
  {
   "cell_type": "code",
   "execution_count": 25,
   "id": "1Vew8M2nAWkx",
   "metadata": {
    "id": "1Vew8M2nAWkx"
   },
   "outputs": [],
   "source": [
    "train_df.drop('ID', inplace = True, axis = 1)\n",
    "test_df.drop('ID', inplace = True, axis = 1)"
   ]
  },
  {
   "cell_type": "code",
   "execution_count": 26,
   "id": "snLEHK-pAWkx",
   "metadata": {
    "id": "snLEHK-pAWkx",
    "outputId": "a685b087-b949-4cc7-c731-1b17d347ca37"
   },
   "outputs": [
    {
     "name": "stdout",
     "output_type": "stream",
     "text": [
      "(76020, 145)\n",
      "(75818, 144)\n"
     ]
    }
   ],
   "source": [
    "print(train_df.shape)\n",
    "print(test_df.shape)"
   ]
  },
  {
   "cell_type": "markdown",
   "id": "dvGgZEMaAWkx",
   "metadata": {
    "id": "dvGgZEMaAWkx"
   },
   "source": [
    "#### Select the Dependent and Independent Features"
   ]
  },
  {
   "cell_type": "code",
   "execution_count": 27,
   "id": "SrOgRGUPAWkx",
   "metadata": {
    "id": "SrOgRGUPAWkx",
    "outputId": "3a2b84ab-6190-44d0-c9e3-860d8fe09b25"
   },
   "outputs": [
    {
     "name": "stdout",
     "output_type": "stream",
     "text": [
      "<class 'pandas.core.frame.DataFrame'>\n",
      "<class 'pandas.core.series.Series'>\n",
      "(76020, 144) (76020,)\n"
     ]
    }
   ],
   "source": [
    "x = train_df.drop('TARGET',axis=1)  # dataframe\n",
    "y = train_df['TARGET']              # series\n",
    "print(type(x))\n",
    "print(type(y))\n",
    "print(x.shape,y.shape)"
   ]
  },
  {
   "cell_type": "markdown",
   "id": "vAVoUx5aAWky",
   "metadata": {
    "id": "vAVoUx5aAWky"
   },
   "source": [
    "#### Dividing the data into training and testing data"
   ]
  },
  {
   "cell_type": "code",
   "execution_count": 28,
   "id": "FbRyKopVAWky",
   "metadata": {
    "id": "FbRyKopVAWky"
   },
   "outputs": [],
   "source": [
    "from sklearn.model_selection import train_test_split"
   ]
  },
  {
   "cell_type": "code",
   "execution_count": 29,
   "id": "nVEhEmW5AWky",
   "metadata": {
    "id": "nVEhEmW5AWky",
    "outputId": "cfa95781-5d7b-4cce-fbb6-75e077d1c9ba"
   },
   "outputs": [
    {
     "name": "stdout",
     "output_type": "stream",
     "text": [
      "19005.0\n",
      "57015\n"
     ]
    }
   ],
   "source": [
    "print(76020*0.25)\n",
    "print(76020 - 19005)"
   ]
  },
  {
   "cell_type": "code",
   "execution_count": 30,
   "id": "HRTeGe98AWky",
   "metadata": {
    "id": "HRTeGe98AWky",
    "outputId": "fb843f51-bb55-420b-ef1b-ed1936b65542"
   },
   "outputs": [
    {
     "name": "stdout",
     "output_type": "stream",
     "text": [
      "(57015, 144)\n",
      "(19005, 144)\n",
      "(57015,)\n",
      "(19005,)\n"
     ]
    }
   ],
   "source": [
    "x_train,x_test,y_train,y_test = train_test_split(x,y,test_size=0.25,random_state=42)\n",
    "print(x_train.shape)\n",
    "print(x_test.shape)\n",
    "print(y_train.shape)\n",
    "print(y_test.shape)"
   ]
  },
  {
   "cell_type": "markdown",
   "id": "jHkp_wBnAWky",
   "metadata": {
    "id": "jHkp_wBnAWky"
   },
   "source": [
    "#### Creating Functions to generate confusion matrix, classification report, accuracy score, ROC_AUC Score and to compute Training and the Testing Score"
   ]
  },
  {
   "cell_type": "code",
   "execution_count": 31,
   "id": "xoZb-CqDAWky",
   "metadata": {
    "id": "xoZb-CqDAWky"
   },
   "outputs": [],
   "source": [
    "from sklearn.metrics import confusion_matrix,classification_report,accuracy_score\n",
    "from sklearn.metrics import roc_auc_score,roc_curve, auc"
   ]
  },
  {
   "cell_type": "code",
   "execution_count": 32,
   "id": "4E4BNamOAWkz",
   "metadata": {
    "id": "4E4BNamOAWkz"
   },
   "outputs": [],
   "source": [
    "d = {'Model':[],'TP':[],'FN':[],'FP':[],'TN':[],'Acc':[],'AUC':[]}\n",
    "\n",
    "def eval_model(model,model_name,x_test,ytest,ypred):\n",
    "    cm = confusion_matrix(ytest,ypred)\n",
    "    acc = accuracy_score(ytest,ypred)\n",
    "    cls_rep = classification_report(ytest,ypred,zero_division=0)\n",
    "    auc_score = roc_auc_score(y_test,model.predict_proba(x_test)[:,1])\n",
    "    print('Confusion Matrix\\n',cm)\n",
    "    print('Accuracy Score',acc)\n",
    "    print('AUC Score',auc_score)\n",
    "    print('Classification Report\\n',cls_rep)\n",
    "    d['Model'].append(model_name)\n",
    "    d['TP'].append(cm[0,0])\n",
    "    d['FN'].append(cm[0,1])\n",
    "    d['FP'].append(cm[1,0])\n",
    "    d['TN'].append(cm[1,1])\n",
    "    d['Acc'].append(acc)\n",
    "    d['AUC'].append(auc_score)\n",
    "    \n",
    "    \n",
    "def plot_roc_auc(model,ytest):\n",
    "    fpr,tpr,thresh = roc_curve(y_test,model.predict_proba(x_test)[:,1])\n",
    "    auc_score = roc_auc_score(y_test,model.predict_proba(x_test)[:,1])\n",
    "    print('Area Under Curve',auc_score)\n",
    "    plt.plot(fpr,tpr,color='orange')\n",
    "    plt.plot([0,1],[0,1],label='TPR=FPR')\n",
    "    plt.title('ROC_AUC Curve')\n",
    "    plt.xlabel('FPR')\n",
    "    plt.ylabel('TPR')\n",
    "    plt.grid()\n",
    "    plt.legend()\n",
    "    plt.show()\n",
    "    \n",
    "def mscore(model):\n",
    "    print('Training Score',model.score(x_train,y_train))  # Training dataset Accuracy\n",
    "    print('Testing Score',model.score(x_test,y_test))     # Testing dataset accuracy"
   ]
  },
  {
   "cell_type": "markdown",
   "id": "rzQfNeDMAWkz",
   "metadata": {
    "id": "rzQfNeDMAWkz"
   },
   "source": [
    "#### 1) Applying Logistic Regression"
   ]
  },
  {
   "cell_type": "code",
   "execution_count": 33,
   "id": "LTlI87MRAWkz",
   "metadata": {
    "id": "LTlI87MRAWkz"
   },
   "outputs": [],
   "source": [
    "# importing LogReg library\n",
    "from sklearn.linear_model import LogisticRegression"
   ]
  },
  {
   "cell_type": "code",
   "execution_count": 34,
   "id": "J_R9fWkkAWkz",
   "metadata": {
    "id": "J_R9fWkkAWkz",
    "outputId": "fb97839f-028f-4f80-faba-c4217c196122"
   },
   "outputs": [
    {
     "data": {
      "text/html": [
       "<style>#sk-container-id-1 {color: black;background-color: white;}#sk-container-id-1 pre{padding: 0;}#sk-container-id-1 div.sk-toggleable {background-color: white;}#sk-container-id-1 label.sk-toggleable__label {cursor: pointer;display: block;width: 100%;margin-bottom: 0;padding: 0.3em;box-sizing: border-box;text-align: center;}#sk-container-id-1 label.sk-toggleable__label-arrow:before {content: \"▸\";float: left;margin-right: 0.25em;color: #696969;}#sk-container-id-1 label.sk-toggleable__label-arrow:hover:before {color: black;}#sk-container-id-1 div.sk-estimator:hover label.sk-toggleable__label-arrow:before {color: black;}#sk-container-id-1 div.sk-toggleable__content {max-height: 0;max-width: 0;overflow: hidden;text-align: left;background-color: #f0f8ff;}#sk-container-id-1 div.sk-toggleable__content pre {margin: 0.2em;color: black;border-radius: 0.25em;background-color: #f0f8ff;}#sk-container-id-1 input.sk-toggleable__control:checked~div.sk-toggleable__content {max-height: 200px;max-width: 100%;overflow: auto;}#sk-container-id-1 input.sk-toggleable__control:checked~label.sk-toggleable__label-arrow:before {content: \"▾\";}#sk-container-id-1 div.sk-estimator input.sk-toggleable__control:checked~label.sk-toggleable__label {background-color: #d4ebff;}#sk-container-id-1 div.sk-label input.sk-toggleable__control:checked~label.sk-toggleable__label {background-color: #d4ebff;}#sk-container-id-1 input.sk-hidden--visually {border: 0;clip: rect(1px 1px 1px 1px);clip: rect(1px, 1px, 1px, 1px);height: 1px;margin: -1px;overflow: hidden;padding: 0;position: absolute;width: 1px;}#sk-container-id-1 div.sk-estimator {font-family: monospace;background-color: #f0f8ff;border: 1px dotted black;border-radius: 0.25em;box-sizing: border-box;margin-bottom: 0.5em;}#sk-container-id-1 div.sk-estimator:hover {background-color: #d4ebff;}#sk-container-id-1 div.sk-parallel-item::after {content: \"\";width: 100%;border-bottom: 1px solid gray;flex-grow: 1;}#sk-container-id-1 div.sk-label:hover label.sk-toggleable__label {background-color: #d4ebff;}#sk-container-id-1 div.sk-serial::before {content: \"\";position: absolute;border-left: 1px solid gray;box-sizing: border-box;top: 0;bottom: 0;left: 50%;z-index: 0;}#sk-container-id-1 div.sk-serial {display: flex;flex-direction: column;align-items: center;background-color: white;padding-right: 0.2em;padding-left: 0.2em;position: relative;}#sk-container-id-1 div.sk-item {position: relative;z-index: 1;}#sk-container-id-1 div.sk-parallel {display: flex;align-items: stretch;justify-content: center;background-color: white;position: relative;}#sk-container-id-1 div.sk-item::before, #sk-container-id-1 div.sk-parallel-item::before {content: \"\";position: absolute;border-left: 1px solid gray;box-sizing: border-box;top: 0;bottom: 0;left: 50%;z-index: -1;}#sk-container-id-1 div.sk-parallel-item {display: flex;flex-direction: column;z-index: 1;position: relative;background-color: white;}#sk-container-id-1 div.sk-parallel-item:first-child::after {align-self: flex-end;width: 50%;}#sk-container-id-1 div.sk-parallel-item:last-child::after {align-self: flex-start;width: 50%;}#sk-container-id-1 div.sk-parallel-item:only-child::after {width: 0;}#sk-container-id-1 div.sk-dashed-wrapped {border: 1px dashed gray;margin: 0 0.4em 0.5em 0.4em;box-sizing: border-box;padding-bottom: 0.4em;background-color: white;}#sk-container-id-1 div.sk-label label {font-family: monospace;font-weight: bold;display: inline-block;line-height: 1.2em;}#sk-container-id-1 div.sk-label-container {text-align: center;}#sk-container-id-1 div.sk-container {/* jupyter's `normalize.less` sets `[hidden] { display: none; }` but bootstrap.min.css set `[hidden] { display: none !important; }` so we also need the `!important` here to be able to override the default hidden behavior on the sphinx rendered scikit-learn.org. See: https://github.com/scikit-learn/scikit-learn/issues/21755 */display: inline-block !important;position: relative;}#sk-container-id-1 div.sk-text-repr-fallback {display: none;}</style><div id=\"sk-container-id-1\" class=\"sk-top-container\"><div class=\"sk-text-repr-fallback\"><pre>LogisticRegression(max_iter=100000, solver=&#x27;liblinear&#x27;)</pre><b>In a Jupyter environment, please rerun this cell to show the HTML representation or trust the notebook. <br />On GitHub, the HTML representation is unable to render, please try loading this page with nbviewer.org.</b></div><div class=\"sk-container\" hidden><div class=\"sk-item\"><div class=\"sk-estimator sk-toggleable\"><input class=\"sk-toggleable__control sk-hidden--visually\" id=\"sk-estimator-id-1\" type=\"checkbox\" checked><label for=\"sk-estimator-id-1\" class=\"sk-toggleable__label sk-toggleable__label-arrow\">LogisticRegression</label><div class=\"sk-toggleable__content\"><pre>LogisticRegression(max_iter=100000, solver=&#x27;liblinear&#x27;)</pre></div></div></div></div></div>"
      ],
      "text/plain": [
       "LogisticRegression(max_iter=100000, solver='liblinear')"
      ]
     },
     "execution_count": 34,
     "metadata": {},
     "output_type": "execute_result"
    }
   ],
   "source": [
    "# Building the LogReg model\n",
    "log_reg = LogisticRegression(max_iter=100000,solver='liblinear')\n",
    "log_reg.fit(x_train,y_train)"
   ]
  },
  {
   "cell_type": "code",
   "execution_count": 35,
   "id": "awQCgffqAWkz",
   "metadata": {
    "id": "awQCgffqAWkz",
    "outputId": "250b7a72-98c9-4def-efb6-90f05a98a374"
   },
   "outputs": [
    {
     "name": "stdout",
     "output_type": "stream",
     "text": [
      "Training Score 0.9606068578444269\n",
      "Testing Score 0.9599052880820836\n"
     ]
    }
   ],
   "source": [
    "# Computing Training and testing score\n",
    "mscore(log_reg)"
   ]
  },
  {
   "cell_type": "code",
   "execution_count": 36,
   "id": "Bn0QsJ_LAWk0",
   "metadata": {
    "id": "Bn0QsJ_LAWk0",
    "outputId": "4b343c1d-f071-4c35-b615-1b18f374a977"
   },
   "outputs": [
    {
     "name": "stdout",
     "output_type": "stream",
     "text": [
      "[0 0 0 ... 0 0 0]\n"
     ]
    }
   ],
   "source": [
    "# Generating prediction\n",
    "ypred_logreg = log_reg.predict(x_test)\n",
    "print(ypred_logreg)"
   ]
  },
  {
   "cell_type": "code",
   "execution_count": 37,
   "id": "KPC4gcMyAWk0",
   "metadata": {
    "id": "KPC4gcMyAWk0",
    "outputId": "2ea08b31-2c53-4b85-a691-597deaebf27a"
   },
   "outputs": [
    {
     "name": "stdout",
     "output_type": "stream",
     "text": [
      "Confusion Matrix\n",
      " [[18243     0]\n",
      " [  762     0]]\n",
      "Accuracy Score 0.9599052880820836\n",
      "AUC Score 0.5942131760745825\n",
      "Classification Report\n",
      "               precision    recall  f1-score   support\n",
      "\n",
      "           0       0.96      1.00      0.98     18243\n",
      "           1       0.00      0.00      0.00       762\n",
      "\n",
      "    accuracy                           0.96     19005\n",
      "   macro avg       0.48      0.50      0.49     19005\n",
      "weighted avg       0.92      0.96      0.94     19005\n",
      "\n"
     ]
    }
   ],
   "source": [
    "# Evaluate the model - confusion matrix, clasification Report, AUC Score, Accuaracy\n",
    "eval_model(log_reg,'Log_Reg',x_test,y_test,ypred_logreg)"
   ]
  },
  {
   "cell_type": "code",
   "execution_count": 38,
   "id": "g4wg6RZWAWk0",
   "metadata": {
    "id": "g4wg6RZWAWk0",
    "outputId": "4a5e932c-dea1-46e4-ef05-49727e7a73c2"
   },
   "outputs": [
    {
     "name": "stdout",
     "output_type": "stream",
     "text": [
      "Area Under Curve 0.5942131760745825\n"
     ]
    },
    {
     "data": {
      "image/png": "[encoded data removed]",
      "text/plain": [
       "<Figure size 640x480 with 1 Axes>"
      ]
     },
     "metadata": {},
     "output_type": "display_data"
    }
   ],
   "source": [
    "# Plotting ROC AUC Curve\n",
    "plot_roc_auc(log_reg,y_test)"
   ]
  },
  {
   "cell_type": "markdown",
   "id": "AJZem6_SAWk0",
   "metadata": {
    "id": "AJZem6_SAWk0"
   },
   "source": [
    "#### Applying Decision Tree Classifier"
   ]
  },
  {
   "cell_type": "code",
   "execution_count": 39,
   "id": "mIaJPWzhAWk0",
   "metadata": {
    "id": "mIaJPWzhAWk0"
   },
   "outputs": [],
   "source": [
    "# importing DT library\n",
    "from sklearn.tree import DecisionTreeClassifier"
   ]
  },
  {
   "cell_type": "code",
   "execution_count": 40,
   "id": "6xpL4aKZAWk0",
   "metadata": {
    "id": "6xpL4aKZAWk0",
    "outputId": "4eebe824-de1e-46c1-deeb-d96abb10a30c"
   },
   "outputs": [
    {
     "data": {
      "text/html": [
       "<style>#sk-container-id-2 {color: black;background-color: white;}#sk-container-id-2 pre{padding: 0;}#sk-container-id-2 div.sk-toggleable {background-color: white;}#sk-container-id-2 label.sk-toggleable__label {cursor: pointer;display: block;width: 100%;margin-bottom: 0;padding: 0.3em;box-sizing: border-box;text-align: center;}#sk-container-id-2 label.sk-toggleable__label-arrow:before {content: \"▸\";float: left;margin-right: 0.25em;color: #696969;}#sk-container-id-2 label.sk-toggleable__label-arrow:hover:before {color: black;}#sk-container-id-2 div.sk-estimator:hover label.sk-toggleable__label-arrow:before {color: black;}#sk-container-id-2 div.sk-toggleable__content {max-height: 0;max-width: 0;overflow: hidden;text-align: left;background-color: #f0f8ff;}#sk-container-id-2 div.sk-toggleable__content pre {margin: 0.2em;color: black;border-radius: 0.25em;background-color: #f0f8ff;}#sk-container-id-2 input.sk-toggleable__control:checked~div.sk-toggleable__content {max-height: 200px;max-width: 100%;overflow: auto;}#sk-container-id-2 input.sk-toggleable__control:checked~label.sk-toggleable__label-arrow:before {content: \"▾\";}#sk-container-id-2 div.sk-estimator input.sk-toggleable__control:checked~label.sk-toggleable__label {background-color: #d4ebff;}#sk-container-id-2 div.sk-label input.sk-toggleable__control:checked~label.sk-toggleable__label {background-color: #d4ebff;}#sk-container-id-2 input.sk-hidden--visually {border: 0;clip: rect(1px 1px 1px 1px);clip: rect(1px, 1px, 1px, 1px);height: 1px;margin: -1px;overflow: hidden;padding: 0;position: absolute;width: 1px;}#sk-container-id-2 div.sk-estimator {font-family: monospace;background-color: #f0f8ff;border: 1px dotted black;border-radius: 0.25em;box-sizing: border-box;margin-bottom: 0.5em;}#sk-container-id-2 div.sk-estimator:hover {background-color: #d4ebff;}#sk-container-id-2 div.sk-parallel-item::after {content: \"\";width: 100%;border-bottom: 1px solid gray;flex-grow: 1;}#sk-container-id-2 div.sk-label:hover label.sk-toggleable__label {background-color: #d4ebff;}#sk-container-id-2 div.sk-serial::before {content: \"\";position: absolute;border-left: 1px solid gray;box-sizing: border-box;top: 0;bottom: 0;left: 50%;z-index: 0;}#sk-container-id-2 div.sk-serial {display: flex;flex-direction: column;align-items: center;background-color: white;padding-right: 0.2em;padding-left: 0.2em;position: relative;}#sk-container-id-2 div.sk-item {position: relative;z-index: 1;}#sk-container-id-2 div.sk-parallel {display: flex;align-items: stretch;justify-content: center;background-color: white;position: relative;}#sk-container-id-2 div.sk-item::before, #sk-container-id-2 div.sk-parallel-item::before {content: \"\";position: absolute;border-left: 1px solid gray;box-sizing: border-box;top: 0;bottom: 0;left: 50%;z-index: -1;}#sk-container-id-2 div.sk-parallel-item {display: flex;flex-direction: column;z-index: 1;position: relative;background-color: white;}#sk-container-id-2 div.sk-parallel-item:first-child::after {align-self: flex-end;width: 50%;}#sk-container-id-2 div.sk-parallel-item:last-child::after {align-self: flex-start;width: 50%;}#sk-container-id-2 div.sk-parallel-item:only-child::after {width: 0;}#sk-container-id-2 div.sk-dashed-wrapped {border: 1px dashed gray;margin: 0 0.4em 0.5em 0.4em;box-sizing: border-box;padding-bottom: 0.4em;background-color: white;}#sk-container-id-2 div.sk-label label {font-family: monospace;font-weight: bold;display: inline-block;line-height: 1.2em;}#sk-container-id-2 div.sk-label-container {text-align: center;}#sk-container-id-2 div.sk-container {/* jupyter's `normalize.less` sets `[hidden] { display: none; }` but bootstrap.min.css set `[hidden] { display: none !important; }` so we also need the `!important` here to be able to override the default hidden behavior on the sphinx rendered scikit-learn.org. See: https://github.com/scikit-learn/scikit-learn/issues/21755 */display: inline-block !important;position: relative;}#sk-container-id-2 div.sk-text-repr-fallback {display: none;}</style><div id=\"sk-container-id-2\" class=\"sk-top-container\"><div class=\"sk-text-repr-fallback\"><pre>DecisionTreeClassifier(max_depth=10, min_samples_split=50)</pre><b>In a Jupyter environment, please rerun this cell to show the HTML representation or trust the notebook. <br />On GitHub, the HTML representation is unable to render, please try loading this page with nbviewer.org.</b></div><div class=\"sk-container\" hidden><div class=\"sk-item\"><div class=\"sk-estimator sk-toggleable\"><input class=\"sk-toggleable__control sk-hidden--visually\" id=\"sk-estimator-id-2\" type=\"checkbox\" checked><label for=\"sk-estimator-id-2\" class=\"sk-toggleable__label sk-toggleable__label-arrow\">DecisionTreeClassifier</label><div class=\"sk-toggleable__content\"><pre>DecisionTreeClassifier(max_depth=10, min_samples_split=50)</pre></div></div></div></div></div>"
      ],
      "text/plain": [
       "DecisionTreeClassifier(max_depth=10, min_samples_split=50)"
      ]
     },
     "execution_count": 40,
     "metadata": {},
     "output_type": "execute_result"
    }
   ],
   "source": [
    "# Building the Decition Tree model\n",
    "dt = DecisionTreeClassifier(criterion='gini',min_samples_split=50,max_depth=10)\n",
    "dt.fit(x_train,y_train)"
   ]
  },
  {
   "cell_type": "code",
   "execution_count": 41,
   "id": "AQPlaKKKAWk0",
   "metadata": {
    "id": "AQPlaKKKAWk0",
    "outputId": "445ee7bd-2cb4-4adf-993f-f38f4e9550fb"
   },
   "outputs": [
    {
     "name": "stdout",
     "output_type": "stream",
     "text": [
      "Training Score 0.9619047619047619\n",
      "Testing Score 0.9583793738489871\n"
     ]
    }
   ],
   "source": [
    "# Training and the Testing Score\n",
    "mscore(dt)"
   ]
  },
  {
   "cell_type": "code",
   "execution_count": 42,
   "id": "F3_K9kjaAWk1",
   "metadata": {
    "id": "F3_K9kjaAWk1"
   },
   "outputs": [],
   "source": [
    "# Generating the predictions\n",
    "ypred_dt = dt.predict(x_test)"
   ]
  },
  {
   "cell_type": "code",
   "execution_count": 43,
   "id": "TJ5_qYRrAWk1",
   "metadata": {
    "id": "TJ5_qYRrAWk1",
    "outputId": "a4a3dd24-60ae-4376-b3c5-21e264dd32eb"
   },
   "outputs": [
    {
     "name": "stdout",
     "output_type": "stream",
     "text": [
      "Confusion Matrix\n",
      " [[18207    36]\n",
      " [  755     7]]\n",
      "Accuracy Score 0.9583793738489871\n",
      "AUC Score 0.7945761168523561\n",
      "Classification Report\n",
      "               precision    recall  f1-score   support\n",
      "\n",
      "           0       0.96      1.00      0.98     18243\n",
      "           1       0.16      0.01      0.02       762\n",
      "\n",
      "    accuracy                           0.96     19005\n",
      "   macro avg       0.56      0.50      0.50     19005\n",
      "weighted avg       0.93      0.96      0.94     19005\n",
      "\n"
     ]
    }
   ],
   "source": [
    "# Evaluate the model - confusion matrix, classification Report, AUC Score, Accuaracy\n",
    "eval_model(dt,'DT',x_test,y_test,ypred_dt)"
   ]
  },
  {
   "cell_type": "code",
   "execution_count": 44,
   "id": "Ewc6pxHrAWk1",
   "metadata": {
    "id": "Ewc6pxHrAWk1",
    "outputId": "3cbf300f-9f81-4f71-e266-feeb6fd91248"
   },
   "outputs": [
    {
     "name": "stdout",
     "output_type": "stream",
     "text": [
      "Area Under Curve 0.7945761168523561\n"
     ]
    },
    {
     "data": {
      "image/png": "[encoded data removed]",
      "text/plain": [
       "<Figure size 640x480 with 1 Axes>"
      ]
     },
     "metadata": {},
     "output_type": "display_data"
    }
   ],
   "source": [
    "# Plotting ROC_AUC Curve\n",
    "plot_roc_auc(dt,y_test)"
   ]
  },
  {
   "cell_type": "markdown",
   "id": "rJk97WeBAWk1",
   "metadata": {
    "id": "rJk97WeBAWk1"
   },
   "source": [
    "#### Applying RandomForest Classifier"
   ]
  },
  {
   "cell_type": "code",
   "execution_count": 45,
   "id": "uZ9BSpfNAWk1",
   "metadata": {
    "id": "uZ9BSpfNAWk1"
   },
   "outputs": [],
   "source": [
    "# Import random Forest library\n",
    "from sklearn.ensemble import RandomForestClassifier"
   ]
  },
  {
   "cell_type": "code",
   "execution_count": 46,
   "id": "E1J0-WgMAWk1",
   "metadata": {
    "id": "E1J0-WgMAWk1",
    "outputId": "040a8c2c-c1b9-41d0-cf17-f6f1737e085b"
   },
   "outputs": [
    {
     "data": {
      "text/html": [
       "<style>#sk-container-id-3 {color: black;background-color: white;}#sk-container-id-3 pre{padding: 0;}#sk-container-id-3 div.sk-toggleable {background-color: white;}#sk-container-id-3 label.sk-toggleable__label {cursor: pointer;display: block;width: 100%;margin-bottom: 0;padding: 0.3em;box-sizing: border-box;text-align: center;}#sk-container-id-3 label.sk-toggleable__label-arrow:before {content: \"▸\";float: left;margin-right: 0.25em;color: #696969;}#sk-container-id-3 label.sk-toggleable__label-arrow:hover:before {color: black;}#sk-container-id-3 div.sk-estimator:hover label.sk-toggleable__label-arrow:before {color: black;}#sk-container-id-3 div.sk-toggleable__content {max-height: 0;max-width: 0;overflow: hidden;text-align: left;background-color: #f0f8ff;}#sk-container-id-3 div.sk-toggleable__content pre {margin: 0.2em;color: black;border-radius: 0.25em;background-color: #f0f8ff;}#sk-container-id-3 input.sk-toggleable__control:checked~div.sk-toggleable__content {max-height: 200px;max-width: 100%;overflow: auto;}#sk-container-id-3 input.sk-toggleable__control:checked~label.sk-toggleable__label-arrow:before {content: \"▾\";}#sk-container-id-3 div.sk-estimator input.sk-toggleable__control:checked~label.sk-toggleable__label {background-color: #d4ebff;}#sk-container-id-3 div.sk-label input.sk-toggleable__control:checked~label.sk-toggleable__label {background-color: #d4ebff;}#sk-container-id-3 input.sk-hidden--visually {border: 0;clip: rect(1px 1px 1px 1px);clip: rect(1px, 1px, 1px, 1px);height: 1px;margin: -1px;overflow: hidden;padding: 0;position: absolute;width: 1px;}#sk-container-id-3 div.sk-estimator {font-family: monospace;background-color: #f0f8ff;border: 1px dotted black;border-radius: 0.25em;box-sizing: border-box;margin-bottom: 0.5em;}#sk-container-id-3 div.sk-estimator:hover {background-color: #d4ebff;}#sk-container-id-3 div.sk-parallel-item::after {content: \"\";width: 100%;border-bottom: 1px solid gray;flex-grow: 1;}#sk-container-id-3 div.sk-label:hover label.sk-toggleable__label {background-color: #d4ebff;}#sk-container-id-3 div.sk-serial::before {content: \"\";position: absolute;border-left: 1px solid gray;box-sizing: border-box;top: 0;bottom: 0;left: 50%;z-index: 0;}#sk-container-id-3 div.sk-serial {display: flex;flex-direction: column;align-items: center;background-color: white;padding-right: 0.2em;padding-left: 0.2em;position: relative;}#sk-container-id-3 div.sk-item {position: relative;z-index: 1;}#sk-container-id-3 div.sk-parallel {display: flex;align-items: stretch;justify-content: center;background-color: white;position: relative;}#sk-container-id-3 div.sk-item::before, #sk-container-id-3 div.sk-parallel-item::before {content: \"\";position: absolute;border-left: 1px solid gray;box-sizing: border-box;top: 0;bottom: 0;left: 50%;z-index: -1;}#sk-container-id-3 div.sk-parallel-item {display: flex;flex-direction: column;z-index: 1;position: relative;background-color: white;}#sk-container-id-3 div.sk-parallel-item:first-child::after {align-self: flex-end;width: 50%;}#sk-container-id-3 div.sk-parallel-item:last-child::after {align-self: flex-start;width: 50%;}#sk-container-id-3 div.sk-parallel-item:only-child::after {width: 0;}#sk-container-id-3 div.sk-dashed-wrapped {border: 1px dashed gray;margin: 0 0.4em 0.5em 0.4em;box-sizing: border-box;padding-bottom: 0.4em;background-color: white;}#sk-container-id-3 div.sk-label label {font-family: monospace;font-weight: bold;display: inline-block;line-height: 1.2em;}#sk-container-id-3 div.sk-label-container {text-align: center;}#sk-container-id-3 div.sk-container {/* jupyter's `normalize.less` sets `[hidden] { display: none; }` but bootstrap.min.css set `[hidden] { display: none !important; }` so we also need the `!important` here to be able to override the default hidden behavior on the sphinx rendered scikit-learn.org. See: https://github.com/scikit-learn/scikit-learn/issues/21755 */display: inline-block !important;position: relative;}#sk-container-id-3 div.sk-text-repr-fallback {display: none;}</style><div id=\"sk-container-id-3\" class=\"sk-top-container\"><div class=\"sk-text-repr-fallback\"><pre>RandomForestClassifier(max_depth=10, min_samples_split=50, n_estimators=80)</pre><b>In a Jupyter environment, please rerun this cell to show the HTML representation or trust the notebook. <br />On GitHub, the HTML representation is unable to render, please try loading this page with nbviewer.org.</b></div><div class=\"sk-container\" hidden><div class=\"sk-item\"><div class=\"sk-estimator sk-toggleable\"><input class=\"sk-toggleable__control sk-hidden--visually\" id=\"sk-estimator-id-3\" type=\"checkbox\" checked><label for=\"sk-estimator-id-3\" class=\"sk-toggleable__label sk-toggleable__label-arrow\">RandomForestClassifier</label><div class=\"sk-toggleable__content\"><pre>RandomForestClassifier(max_depth=10, min_samples_split=50, n_estimators=80)</pre></div></div></div></div></div>"
      ],
      "text/plain": [
       "RandomForestClassifier(max_depth=10, min_samples_split=50, n_estimators=80)"
      ]
     },
     "execution_count": 46,
     "metadata": {},
     "output_type": "execute_result"
    }
   ],
   "source": [
    "# Building the RF Model\n",
    "rf = RandomForestClassifier(n_estimators=80,criterion='gini',min_samples_split=50,max_depth=10)\n",
    "rf.fit(x_train,y_train)"
   ]
  },
  {
   "cell_type": "code",
   "execution_count": 47,
   "id": "ovh0eWVtAWk2",
   "metadata": {
    "id": "ovh0eWVtAWk2",
    "outputId": "d2f51c4c-506b-4967-de78-5d4d64d0c345"
   },
   "outputs": [
    {
     "name": "stdout",
     "output_type": "stream",
     "text": [
      "Training Score 0.960641936332544\n",
      "Testing Score 0.9599052880820836\n"
     ]
    }
   ],
   "source": [
    "# Training and the testing Score\n",
    "mscore(rf)"
   ]
  },
  {
   "cell_type": "code",
   "execution_count": 48,
   "id": "Bo5pSRArAWk2",
   "metadata": {
    "id": "Bo5pSRArAWk2"
   },
   "outputs": [],
   "source": [
    "# Generating the predictions\n",
    "ypred_rf = rf.predict(x_test)"
   ]
  },
  {
   "cell_type": "code",
   "execution_count": 49,
   "id": "B6t9ocH0AWk2",
   "metadata": {
    "id": "B6t9ocH0AWk2",
    "outputId": "cb673aa7-0f4c-486c-cea3-2f84d1d938c8"
   },
   "outputs": [
    {
     "name": "stdout",
     "output_type": "stream",
     "text": [
      "Confusion Matrix\n",
      " [[18243     0]\n",
      " [  762     0]]\n",
      "Accuracy Score 0.9599052880820836\n",
      "AUC Score 0.8119262082044052\n",
      "Classification Report\n",
      "               precision    recall  f1-score   support\n",
      "\n",
      "           0       0.96      1.00      0.98     18243\n",
      "           1       0.00      0.00      0.00       762\n",
      "\n",
      "    accuracy                           0.96     19005\n",
      "   macro avg       0.48      0.50      0.49     19005\n",
      "weighted avg       0.92      0.96      0.94     19005\n",
      "\n"
     ]
    }
   ],
   "source": [
    "# Evaluate the model - confusion matrix, classification Report, AUC Score, Accuaracy\n",
    "eval_model(rf,'Random Forest',x_test,y_test,ypred_rf)"
   ]
  },
  {
   "cell_type": "code",
   "execution_count": 50,
   "id": "gF95jJAdAWk2",
   "metadata": {
    "id": "gF95jJAdAWk2",
    "outputId": "26bffca8-c98a-41eb-ae19-94cabf538270"
   },
   "outputs": [
    {
     "name": "stdout",
     "output_type": "stream",
     "text": [
      "Area Under Curve 0.8119262082044052\n"
     ]
    },
    {
     "data": {
      "image/png": "[encoded data removed]",
      "text/plain": [
       "<Figure size 640x480 with 1 Axes>"
      ]
     },
     "metadata": {},
     "output_type": "display_data"
    }
   ],
   "source": [
    "# Plotting ROC_AUC Curve\n",
    "plot_roc_auc(rf,y_test)"
   ]
  },
  {
   "cell_type": "markdown",
   "id": "XIZrNtB8AWk2",
   "metadata": {
    "id": "XIZrNtB8AWk2"
   },
   "source": [
    "#### Applying Ensemble Learning"
   ]
  },
  {
   "cell_type": "code",
   "execution_count": 51,
   "id": "YidvEl73AWk2",
   "metadata": {
    "id": "YidvEl73AWk2"
   },
   "outputs": [],
   "source": [
    "# Importing the  AdaBoost Classifier library\n",
    "from sklearn.ensemble import AdaBoostClassifier"
   ]
  },
  {
   "cell_type": "code",
   "execution_count": 52,
   "id": "Zs_vBvr1AWk2",
   "metadata": {
    "id": "Zs_vBvr1AWk2",
    "outputId": "0052ed96-d18a-4821-9e21-0e6fb372ae83"
   },
   "outputs": [
    {
     "data": {
      "text/html": [
       "<style>#sk-container-id-4 {color: black;background-color: white;}#sk-container-id-4 pre{padding: 0;}#sk-container-id-4 div.sk-toggleable {background-color: white;}#sk-container-id-4 label.sk-toggleable__label {cursor: pointer;display: block;width: 100%;margin-bottom: 0;padding: 0.3em;box-sizing: border-box;text-align: center;}#sk-container-id-4 label.sk-toggleable__label-arrow:before {content: \"▸\";float: left;margin-right: 0.25em;color: #696969;}#sk-container-id-4 label.sk-toggleable__label-arrow:hover:before {color: black;}#sk-container-id-4 div.sk-estimator:hover label.sk-toggleable__label-arrow:before {color: black;}#sk-container-id-4 div.sk-toggleable__content {max-height: 0;max-width: 0;overflow: hidden;text-align: left;background-color: #f0f8ff;}#sk-container-id-4 div.sk-toggleable__content pre {margin: 0.2em;color: black;border-radius: 0.25em;background-color: #f0f8ff;}#sk-container-id-4 input.sk-toggleable__control:checked~div.sk-toggleable__content {max-height: 200px;max-width: 100%;overflow: auto;}#sk-container-id-4 input.sk-toggleable__control:checked~label.sk-toggleable__label-arrow:before {content: \"▾\";}#sk-container-id-4 div.sk-estimator input.sk-toggleable__control:checked~label.sk-toggleable__label {background-color: #d4ebff;}#sk-container-id-4 div.sk-label input.sk-toggleable__control:checked~label.sk-toggleable__label {background-color: #d4ebff;}#sk-container-id-4 input.sk-hidden--visually {border: 0;clip: rect(1px 1px 1px 1px);clip: rect(1px, 1px, 1px, 1px);height: 1px;margin: -1px;overflow: hidden;padding: 0;position: absolute;width: 1px;}#sk-container-id-4 div.sk-estimator {font-family: monospace;background-color: #f0f8ff;border: 1px dotted black;border-radius: 0.25em;box-sizing: border-box;margin-bottom: 0.5em;}#sk-container-id-4 div.sk-estimator:hover {background-color: #d4ebff;}#sk-container-id-4 div.sk-parallel-item::after {content: \"\";width: 100%;border-bottom: 1px solid gray;flex-grow: 1;}#sk-container-id-4 div.sk-label:hover label.sk-toggleable__label {background-color: #d4ebff;}#sk-container-id-4 div.sk-serial::before {content: \"\";position: absolute;border-left: 1px solid gray;box-sizing: border-box;top: 0;bottom: 0;left: 50%;z-index: 0;}#sk-container-id-4 div.sk-serial {display: flex;flex-direction: column;align-items: center;background-color: white;padding-right: 0.2em;padding-left: 0.2em;position: relative;}#sk-container-id-4 div.sk-item {position: relative;z-index: 1;}#sk-container-id-4 div.sk-parallel {display: flex;align-items: stretch;justify-content: center;background-color: white;position: relative;}#sk-container-id-4 div.sk-item::before, #sk-container-id-4 div.sk-parallel-item::before {content: \"\";position: absolute;border-left: 1px solid gray;box-sizing: border-box;top: 0;bottom: 0;left: 50%;z-index: -1;}#sk-container-id-4 div.sk-parallel-item {display: flex;flex-direction: column;z-index: 1;position: relative;background-color: white;}#sk-container-id-4 div.sk-parallel-item:first-child::after {align-self: flex-end;width: 50%;}#sk-container-id-4 div.sk-parallel-item:last-child::after {align-self: flex-start;width: 50%;}#sk-container-id-4 div.sk-parallel-item:only-child::after {width: 0;}#sk-container-id-4 div.sk-dashed-wrapped {border: 1px dashed gray;margin: 0 0.4em 0.5em 0.4em;box-sizing: border-box;padding-bottom: 0.4em;background-color: white;}#sk-container-id-4 div.sk-label label {font-family: monospace;font-weight: bold;display: inline-block;line-height: 1.2em;}#sk-container-id-4 div.sk-label-container {text-align: center;}#sk-container-id-4 div.sk-container {/* jupyter's `normalize.less` sets `[hidden] { display: none; }` but bootstrap.min.css set `[hidden] { display: none !important; }` so we also need the `!important` here to be able to override the default hidden behavior on the sphinx rendered scikit-learn.org. See: https://github.com/scikit-learn/scikit-learn/issues/21755 */display: inline-block !important;position: relative;}#sk-container-id-4 div.sk-text-repr-fallback {display: none;}</style><div id=\"sk-container-id-4\" class=\"sk-top-container\"><div class=\"sk-text-repr-fallback\"><pre>AdaBoostClassifier(n_estimators=70)</pre><b>In a Jupyter environment, please rerun this cell to show the HTML representation or trust the notebook. <br />On GitHub, the HTML representation is unable to render, please try loading this page with nbviewer.org.</b></div><div class=\"sk-container\" hidden><div class=\"sk-item\"><div class=\"sk-estimator sk-toggleable\"><input class=\"sk-toggleable__control sk-hidden--visually\" id=\"sk-estimator-id-4\" type=\"checkbox\" checked><label for=\"sk-estimator-id-4\" class=\"sk-toggleable__label sk-toggleable__label-arrow\">AdaBoostClassifier</label><div class=\"sk-toggleable__content\"><pre>AdaBoostClassifier(n_estimators=70)</pre></div></div></div></div></div>"
      ],
      "text/plain": [
       "AdaBoostClassifier(n_estimators=70)"
      ]
     },
     "execution_count": 52,
     "metadata": {},
     "output_type": "execute_result"
    }
   ],
   "source": [
    "# Builing the Adaboost model\n",
    "adab = AdaBoostClassifier(n_estimators=70)\n",
    "adab.fit(x_train,y_train)"
   ]
  },
  {
   "cell_type": "code",
   "execution_count": 53,
   "id": "pdGgF0dCAWk3",
   "metadata": {
    "id": "pdGgF0dCAWk3",
    "outputId": "b3f78245-3a46-4709-e84f-b6216d947635"
   },
   "outputs": [
    {
     "name": "stdout",
     "output_type": "stream",
     "text": [
      "Training Score 0.9606068578444269\n",
      "Testing Score 0.959642199421205\n"
     ]
    }
   ],
   "source": [
    "# Computing the Training and Testing Score\n",
    "mscore(adab)"
   ]
  },
  {
   "cell_type": "code",
   "execution_count": 54,
   "id": "7t6J27JqAWk3",
   "metadata": {
    "id": "7t6J27JqAWk3"
   },
   "outputs": [],
   "source": [
    "# Generating the predictions\n",
    "ypred_adab = adab.predict(x_test)"
   ]
  },
  {
   "cell_type": "code",
   "execution_count": 55,
   "id": "sZE6JDevAWk3",
   "metadata": {
    "id": "sZE6JDevAWk3",
    "outputId": "20ac23e8-d514-4b44-b7d4-c8750c73ad36"
   },
   "outputs": [
    {
     "name": "stdout",
     "output_type": "stream",
     "text": [
      "Confusion Matrix\n",
      " [[18234     9]\n",
      " [  758     4]]\n",
      "Accuracy Score 0.959642199421205\n",
      "AUC Score 0.824064434594911\n",
      "Classification Report\n",
      "               precision    recall  f1-score   support\n",
      "\n",
      "           0       0.96      1.00      0.98     18243\n",
      "           1       0.31      0.01      0.01       762\n",
      "\n",
      "    accuracy                           0.96     19005\n",
      "   macro avg       0.63      0.50      0.49     19005\n",
      "weighted avg       0.93      0.96      0.94     19005\n",
      "\n"
     ]
    }
   ],
   "source": [
    "# Evaluate the model - confusion matrix, classification Report, AUC Score, Accuaracy\n",
    "eval_model(adab,'AdaBoost',x_test,y_test,ypred_adab)"
   ]
  },
  {
   "cell_type": "code",
   "execution_count": 56,
   "id": "ekz6l19aAWk3",
   "metadata": {
    "id": "ekz6l19aAWk3",
    "outputId": "474ed585-16a8-4375-aa28-1e345057ae9d"
   },
   "outputs": [
    {
     "name": "stdout",
     "output_type": "stream",
     "text": [
      "Area Under Curve 0.824064434594911\n"
     ]
    },
    {
     "data": {
      "image/png": "[encoded data removed]",
      "text/plain": [
       "<Figure size 640x480 with 1 Axes>"
      ]
     },
     "metadata": {},
     "output_type": "display_data"
    }
   ],
   "source": [
    "# Plotting the ROC_AUC Curve\n",
    "plot_roc_auc(adab,y_test)"
   ]
  },
  {
   "cell_type": "markdown",
   "id": "mHtcv_CTAWk3",
   "metadata": {
    "id": "mHtcv_CTAWk3"
   },
   "source": [
    "#### Comparing different Classification Models"
   ]
  },
  {
   "cell_type": "code",
   "execution_count": 57,
   "id": "Io3a8CdNAWk3",
   "metadata": {
    "id": "Io3a8CdNAWk3",
    "outputId": "f948b9ec-4076-473d-ca13-b571532f0f9c"
   },
   "outputs": [
    {
     "name": "stdout",
     "output_type": "stream",
     "text": [
      "{'Model': ['Log_Reg', 'DT', 'Random Forest', 'AdaBoost'], 'TP': [18243, 18207, 18243, 18234], 'FN': [0, 36, 0, 9], 'FP': [762, 755, 762, 758], 'TN': [0, 7, 0, 4], 'Acc': [0.9599052880820836, 0.9583793738489871, 0.9599052880820836, 0.959642199421205], 'AUC': [0.5942131760745825, 0.7945761168523561, 0.8119262082044052, 0.824064434594911]}\n"
     ]
    }
   ],
   "source": [
    "print(d)"
   ]
  },
  {
   "cell_type": "code",
   "execution_count": 58,
   "id": "4yUZnZCqAWk3",
   "metadata": {
    "id": "4yUZnZCqAWk3",
    "outputId": "f812b904-bb92-4314-c833-fd3ffdc32ff0"
   },
   "outputs": [
    {
     "data": {
      "text/html": [
       "<div>\n",
       "<style scoped>\n",
       "    .dataframe tbody tr th:only-of-type {\n",
       "        vertical-align: middle;\n",
       "    }\n",
       "\n",
       "    .dataframe tbody tr th {\n",
       "        vertical-align: top;\n",
       "    }\n",
       "\n",
       "    .dataframe thead th {\n",
       "        text-align: right;\n",
       "    }\n",
       "</style>\n",
       "<table border=\"1\" class=\"dataframe\">\n",
       "  <thead>\n",
       "    <tr style=\"text-align: right;\">\n",
       "      <th></th>\n",
       "      <th>Model</th>\n",
       "      <th>TP</th>\n",
       "      <th>FN</th>\n",
       "      <th>FP</th>\n",
       "      <th>TN</th>\n",
       "      <th>Acc</th>\n",
       "      <th>AUC</th>\n",
       "    </tr>\n",
       "  </thead>\n",
       "  <tbody>\n",
       "    <tr>\n",
       "      <th>0</th>\n",
       "      <td>Log_Reg</td>\n",
       "      <td>18243</td>\n",
       "      <td>0</td>\n",
       "      <td>762</td>\n",
       "      <td>0</td>\n",
       "      <td>0.959905</td>\n",
       "      <td>0.594213</td>\n",
       "    </tr>\n",
       "    <tr>\n",
       "      <th>1</th>\n",
       "      <td>DT</td>\n",
       "      <td>18207</td>\n",
       "      <td>36</td>\n",
       "      <td>755</td>\n",
       "      <td>7</td>\n",
       "      <td>0.958379</td>\n",
       "      <td>0.794576</td>\n",
       "    </tr>\n",
       "    <tr>\n",
       "      <th>2</th>\n",
       "      <td>Random Forest</td>\n",
       "      <td>18243</td>\n",
       "      <td>0</td>\n",
       "      <td>762</td>\n",
       "      <td>0</td>\n",
       "      <td>0.959905</td>\n",
       "      <td>0.811926</td>\n",
       "    </tr>\n",
       "    <tr>\n",
       "      <th>3</th>\n",
       "      <td>AdaBoost</td>\n",
       "      <td>18234</td>\n",
       "      <td>9</td>\n",
       "      <td>758</td>\n",
       "      <td>4</td>\n",
       "      <td>0.959642</td>\n",
       "      <td>0.824064</td>\n",
       "    </tr>\n",
       "  </tbody>\n",
       "</table>\n",
       "</div>"
      ],
      "text/plain": [
       "           Model     TP  FN   FP  TN       Acc       AUC\n",
       "0        Log_Reg  18243   0  762   0  0.959905  0.594213\n",
       "1             DT  18207  36  755   7  0.958379  0.794576\n",
       "2  Random Forest  18243   0  762   0  0.959905  0.811926\n",
       "3       AdaBoost  18234   9  758   4  0.959642  0.824064"
      ]
     },
     "execution_count": 58,
     "metadata": {},
     "output_type": "execute_result"
    }
   ],
   "source": [
    "model_performance = pd.DataFrame(d)\n",
    "model_performance"
   ]
  },
  {
   "cell_type": "markdown",
   "id": "M-bB-Ii2AWk4",
   "metadata": {
    "id": "M-bB-Ii2AWk4"
   },
   "source": [
    "#### Generating Predictions on Test data using AdaBoost Classifier"
   ]
  },
  {
   "cell_type": "code",
   "execution_count": 59,
   "id": "Bw_d96qOAWk4",
   "metadata": {
    "id": "Bw_d96qOAWk4",
    "outputId": "f3ce9c5e-28aa-4e01-9c69-c392927390d3"
   },
   "outputs": [
    {
     "name": "stdout",
     "output_type": "stream",
     "text": [
      "(57015, 144)\n",
      "(19005, 144)\n",
      "(76020, 144)\n",
      "(76020,)\n"
     ]
    }
   ],
   "source": [
    "print(x_train.shape)\n",
    "print(x_test.shape)\n",
    "print(x.shape)\n",
    "print(y.shape)"
   ]
  },
  {
   "cell_type": "markdown",
   "id": "iTfR99a6AWk4",
   "metadata": {
    "id": "iTfR99a6AWk4"
   },
   "source": [
    "#### Final model (AdaBoost Classifier) based on Evaluation from model_performance dataframe"
   ]
  },
  {
   "cell_type": "code",
   "execution_count": 60,
   "id": "rS_CPFXoAWk4",
   "metadata": {
    "id": "rS_CPFXoAWk4",
    "outputId": "41e85cce-d4ee-4f3b-924f-9fa4e636db68"
   },
   "outputs": [
    {
     "data": {
      "text/html": [
       "<style>#sk-container-id-5 {color: black;background-color: white;}#sk-container-id-5 pre{padding: 0;}#sk-container-id-5 div.sk-toggleable {background-color: white;}#sk-container-id-5 label.sk-toggleable__label {cursor: pointer;display: block;width: 100%;margin-bottom: 0;padding: 0.3em;box-sizing: border-box;text-align: center;}#sk-container-id-5 label.sk-toggleable__label-arrow:before {content: \"▸\";float: left;margin-right: 0.25em;color: #696969;}#sk-container-id-5 label.sk-toggleable__label-arrow:hover:before {color: black;}#sk-container-id-5 div.sk-estimator:hover label.sk-toggleable__label-arrow:before {color: black;}#sk-container-id-5 div.sk-toggleable__content {max-height: 0;max-width: 0;overflow: hidden;text-align: left;background-color: #f0f8ff;}#sk-container-id-5 div.sk-toggleable__content pre {margin: 0.2em;color: black;border-radius: 0.25em;background-color: #f0f8ff;}#sk-container-id-5 input.sk-toggleable__control:checked~div.sk-toggleable__content {max-height: 200px;max-width: 100%;overflow: auto;}#sk-container-id-5 input.sk-toggleable__control:checked~label.sk-toggleable__label-arrow:before {content: \"▾\";}#sk-container-id-5 div.sk-estimator input.sk-toggleable__control:checked~label.sk-toggleable__label {background-color: #d4ebff;}#sk-container-id-5 div.sk-label input.sk-toggleable__control:checked~label.sk-toggleable__label {background-color: #d4ebff;}#sk-container-id-5 input.sk-hidden--visually {border: 0;clip: rect(1px 1px 1px 1px);clip: rect(1px, 1px, 1px, 1px);height: 1px;margin: -1px;overflow: hidden;padding: 0;position: absolute;width: 1px;}#sk-container-id-5 div.sk-estimator {font-family: monospace;background-color: #f0f8ff;border: 1px dotted black;border-radius: 0.25em;box-sizing: border-box;margin-bottom: 0.5em;}#sk-container-id-5 div.sk-estimator:hover {background-color: #d4ebff;}#sk-container-id-5 div.sk-parallel-item::after {content: \"\";width: 100%;border-bottom: 1px solid gray;flex-grow: 1;}#sk-container-id-5 div.sk-label:hover label.sk-toggleable__label {background-color: #d4ebff;}#sk-container-id-5 div.sk-serial::before {content: \"\";position: absolute;border-left: 1px solid gray;box-sizing: border-box;top: 0;bottom: 0;left: 50%;z-index: 0;}#sk-container-id-5 div.sk-serial {display: flex;flex-direction: column;align-items: center;background-color: white;padding-right: 0.2em;padding-left: 0.2em;position: relative;}#sk-container-id-5 div.sk-item {position: relative;z-index: 1;}#sk-container-id-5 div.sk-parallel {display: flex;align-items: stretch;justify-content: center;background-color: white;position: relative;}#sk-container-id-5 div.sk-item::before, #sk-container-id-5 div.sk-parallel-item::before {content: \"\";position: absolute;border-left: 1px solid gray;box-sizing: border-box;top: 0;bottom: 0;left: 50%;z-index: -1;}#sk-container-id-5 div.sk-parallel-item {display: flex;flex-direction: column;z-index: 1;position: relative;background-color: white;}#sk-container-id-5 div.sk-parallel-item:first-child::after {align-self: flex-end;width: 50%;}#sk-container-id-5 div.sk-parallel-item:last-child::after {align-self: flex-start;width: 50%;}#sk-container-id-5 div.sk-parallel-item:only-child::after {width: 0;}#sk-container-id-5 div.sk-dashed-wrapped {border: 1px dashed gray;margin: 0 0.4em 0.5em 0.4em;box-sizing: border-box;padding-bottom: 0.4em;background-color: white;}#sk-container-id-5 div.sk-label label {font-family: monospace;font-weight: bold;display: inline-block;line-height: 1.2em;}#sk-container-id-5 div.sk-label-container {text-align: center;}#sk-container-id-5 div.sk-container {/* jupyter's `normalize.less` sets `[hidden] { display: none; }` but bootstrap.min.css set `[hidden] { display: none !important; }` so we also need the `!important` here to be able to override the default hidden behavior on the sphinx rendered scikit-learn.org. See: https://github.com/scikit-learn/scikit-learn/issues/21755 */display: inline-block !important;position: relative;}#sk-container-id-5 div.sk-text-repr-fallback {display: none;}</style><div id=\"sk-container-id-5\" class=\"sk-top-container\"><div class=\"sk-text-repr-fallback\"><pre>AdaBoostClassifier(n_estimators=70)</pre><b>In a Jupyter environment, please rerun this cell to show the HTML representation or trust the notebook. <br />On GitHub, the HTML representation is unable to render, please try loading this page with nbviewer.org.</b></div><div class=\"sk-container\" hidden><div class=\"sk-item\"><div class=\"sk-estimator sk-toggleable\"><input class=\"sk-toggleable__control sk-hidden--visually\" id=\"sk-estimator-id-5\" type=\"checkbox\" checked><label for=\"sk-estimator-id-5\" class=\"sk-toggleable__label sk-toggleable__label-arrow\">AdaBoostClassifier</label><div class=\"sk-toggleable__content\"><pre>AdaBoostClassifier(n_estimators=70)</pre></div></div></div></div></div>"
      ],
      "text/plain": [
       "AdaBoostClassifier(n_estimators=70)"
      ]
     },
     "execution_count": 60,
     "metadata": {},
     "output_type": "execute_result"
    }
   ],
   "source": [
    "model = AdaBoostClassifier(n_estimators=70)\n",
    "model.fit(x,y)  # x and y is from train_df"
   ]
  },
  {
   "cell_type": "code",
   "execution_count": 61,
   "id": "4aK48jZOAWk4",
   "metadata": {
    "id": "4aK48jZOAWk4",
    "outputId": "3a276962-1a9c-484e-ddf0-081a65952c5c"
   },
   "outputs": [
    {
     "data": {
      "text/plain": [
       "(75818, 144)"
      ]
     },
     "execution_count": 61,
     "metadata": {},
     "output_type": "execute_result"
    }
   ],
   "source": [
    "test_df.shape"
   ]
  },
  {
   "cell_type": "markdown",
   "id": "rUoXxLiTAWk4",
   "metadata": {
    "id": "rUoXxLiTAWk4"
   },
   "source": [
    "#### Generating Predictions on the test_df"
   ]
  },
  {
   "cell_type": "code",
   "execution_count": 62,
   "id": "tjbLud8yAWk4",
   "metadata": {
    "id": "tjbLud8yAWk4"
   },
   "outputs": [],
   "source": [
    "ypred = model.predict(test_df)"
   ]
  },
  {
   "cell_type": "markdown",
   "id": "RTwKaEPnAWk4",
   "metadata": {
    "id": "RTwKaEPnAWk4"
   },
   "source": [
    "#### Adding the prediction results to the sample_submission file"
   ]
  },
  {
   "cell_type": "code",
   "execution_count": 63,
   "id": "UMDxRiAcAWk5",
   "metadata": {
    "id": "UMDxRiAcAWk5",
    "outputId": "22b0bd27-cb12-42e0-e7af-3f426b70b220"
   },
   "outputs": [
    {
     "data": {
      "text/plain": [
       "(75818, 2)"
      ]
     },
     "execution_count": 63,
     "metadata": {},
     "output_type": "execute_result"
    }
   ],
   "source": [
    "sample = pd.read_csv('sample_submission.csv')\n",
    "sample.shape"
   ]
  },
  {
   "cell_type": "code",
   "execution_count": 64,
   "id": "ll05hZ85AWk5",
   "metadata": {
    "id": "ll05hZ85AWk5",
    "outputId": "c42a99d1-2957-4d43-8dce-4a5c7f7e848f"
   },
   "outputs": [
    {
     "data": {
      "text/plain": [
       "Index(['ID', 'TARGET'], dtype='object')"
      ]
     },
     "execution_count": 64,
     "metadata": {},
     "output_type": "execute_result"
    }
   ],
   "source": [
    "sample.columns"
   ]
  },
  {
   "cell_type": "code",
   "execution_count": 65,
   "id": "TxV9ji-7AWk5",
   "metadata": {
    "id": "TxV9ji-7AWk5",
    "outputId": "eb69ff19-c5a1-4af1-fe56-713cb04c3dd7"
   },
   "outputs": [
    {
     "data": {
      "text/html": [
       "<div>\n",
       "<style scoped>\n",
       "    .dataframe tbody tr th:only-of-type {\n",
       "        vertical-align: middle;\n",
       "    }\n",
       "\n",
       "    .dataframe tbody tr th {\n",
       "        vertical-align: top;\n",
       "    }\n",
       "\n",
       "    .dataframe thead th {\n",
       "        text-align: right;\n",
       "    }\n",
       "</style>\n",
       "<table border=\"1\" class=\"dataframe\">\n",
       "  <thead>\n",
       "    <tr style=\"text-align: right;\">\n",
       "      <th></th>\n",
       "      <th>ID</th>\n",
       "      <th>TARGET</th>\n",
       "    </tr>\n",
       "  </thead>\n",
       "  <tbody>\n",
       "    <tr>\n",
       "      <th>0</th>\n",
       "      <td>2</td>\n",
       "      <td>0</td>\n",
       "    </tr>\n",
       "    <tr>\n",
       "      <th>1</th>\n",
       "      <td>5</td>\n",
       "      <td>0</td>\n",
       "    </tr>\n",
       "    <tr>\n",
       "      <th>2</th>\n",
       "      <td>6</td>\n",
       "      <td>0</td>\n",
       "    </tr>\n",
       "    <tr>\n",
       "      <th>3</th>\n",
       "      <td>7</td>\n",
       "      <td>0</td>\n",
       "    </tr>\n",
       "    <tr>\n",
       "      <th>4</th>\n",
       "      <td>9</td>\n",
       "      <td>0</td>\n",
       "    </tr>\n",
       "  </tbody>\n",
       "</table>\n",
       "</div>"
      ],
      "text/plain": [
       "   ID  TARGET\n",
       "0   2       0\n",
       "1   5       0\n",
       "2   6       0\n",
       "3   7       0\n",
       "4   9       0"
      ]
     },
     "execution_count": 65,
     "metadata": {},
     "output_type": "execute_result"
    }
   ],
   "source": [
    "sample.head()"
   ]
  },
  {
   "cell_type": "code",
   "execution_count": 66,
   "id": "nQze_rbPAWk5",
   "metadata": {
    "id": "nQze_rbPAWk5",
    "outputId": "4963e83e-1c99-4e57-9d28-d2588c0d8441"
   },
   "outputs": [
    {
     "data": {
      "text/plain": [
       "0    75818\n",
       "Name: TARGET, dtype: int64"
      ]
     },
     "execution_count": 66,
     "metadata": {},
     "output_type": "execute_result"
    }
   ],
   "source": [
    "sample['TARGET'].value_counts()"
   ]
  },
  {
   "cell_type": "code",
   "execution_count": 67,
   "id": "sCzTTIabAWk5",
   "metadata": {
    "id": "sCzTTIabAWk5",
    "outputId": "3fc5ab50-df97-477f-8819-06ea22000f91"
   },
   "outputs": [
    {
     "data": {
      "text/html": [
       "<div>\n",
       "<style scoped>\n",
       "    .dataframe tbody tr th:only-of-type {\n",
       "        vertical-align: middle;\n",
       "    }\n",
       "\n",
       "    .dataframe tbody tr th {\n",
       "        vertical-align: top;\n",
       "    }\n",
       "\n",
       "    .dataframe thead th {\n",
       "        text-align: right;\n",
       "    }\n",
       "</style>\n",
       "<table border=\"1\" class=\"dataframe\">\n",
       "  <thead>\n",
       "    <tr style=\"text-align: right;\">\n",
       "      <th></th>\n",
       "      <th>ID</th>\n",
       "      <th>TARGET</th>\n",
       "    </tr>\n",
       "  </thead>\n",
       "  <tbody>\n",
       "    <tr>\n",
       "      <th>0</th>\n",
       "      <td>2</td>\n",
       "      <td>0</td>\n",
       "    </tr>\n",
       "    <tr>\n",
       "      <th>1</th>\n",
       "      <td>5</td>\n",
       "      <td>0</td>\n",
       "    </tr>\n",
       "    <tr>\n",
       "      <th>2</th>\n",
       "      <td>6</td>\n",
       "      <td>0</td>\n",
       "    </tr>\n",
       "    <tr>\n",
       "      <th>3</th>\n",
       "      <td>7</td>\n",
       "      <td>0</td>\n",
       "    </tr>\n",
       "    <tr>\n",
       "      <th>4</th>\n",
       "      <td>9</td>\n",
       "      <td>0</td>\n",
       "    </tr>\n",
       "  </tbody>\n",
       "</table>\n",
       "</div>"
      ],
      "text/plain": [
       "   ID  TARGET\n",
       "0   2       0\n",
       "1   5       0\n",
       "2   6       0\n",
       "3   7       0\n",
       "4   9       0"
      ]
     },
     "execution_count": 67,
     "metadata": {},
     "output_type": "execute_result"
    }
   ],
   "source": [
    "sample['TARGET'] = ypred\n",
    "sample.head()"
   ]
  },
  {
   "cell_type": "code",
   "execution_count": 68,
   "id": "ZBc7bZLtAWk5",
   "metadata": {
    "id": "ZBc7bZLtAWk5",
    "outputId": "ef958311-3716-404d-c8c8-7a90124f83a4"
   },
   "outputs": [
    {
     "data": {
      "text/plain": [
       "0    75768\n",
       "1       50\n",
       "Name: TARGET, dtype: int64"
      ]
     },
     "execution_count": 68,
     "metadata": {},
     "output_type": "execute_result"
    }
   ],
   "source": [
    "sample['TARGET'].value_counts()"
   ]
  },
  {
   "cell_type": "code",
   "execution_count": 69,
   "id": "KJvW3XEbAWk5",
   "metadata": {
    "id": "KJvW3XEbAWk5"
   },
   "outputs": [],
   "source": [
    "sample.to_csv('sample_submission_major_proj.csv')"
   ]
  },
  {
   "cell_type": "markdown",
   "id": "cOzDqjdpAWk5",
   "metadata": {
    "id": "cOzDqjdpAWk5"
   },
   "source": [
    "#### Save the Model"
   ]
  },
  {
   "cell_type": "code",
   "execution_count": 70,
   "id": "R6Dl_juGAWk5",
   "metadata": {
    "id": "R6Dl_juGAWk5"
   },
   "outputs": [],
   "source": [
    "import pickle"
   ]
  },
  {
   "cell_type": "code",
   "execution_count": 71,
   "id": "Q8ceIVj-AWk6",
   "metadata": {
    "id": "Q8ceIVj-AWk6"
   },
   "outputs": [],
   "source": [
    "pickle.dump(model, open('sat_predict.pkl', 'wb'))   # wb = write binary"
   ]
  },
  {
   "cell_type": "markdown",
   "id": "fEaroY6OAWk6",
   "metadata": {
    "id": "fEaroY6OAWk6"
   },
   "source": [
    "#### Load the Model"
   ]
  },
  {
   "cell_type": "code",
   "execution_count": 72,
   "id": "AJX8TcpdAWk6",
   "metadata": {
    "id": "AJX8TcpdAWk6"
   },
   "outputs": [],
   "source": [
    "loaded_model = pickle.load(open('sat_predict.pkl', 'rb'))  # rb = read binary"
   ]
  },
  {
   "cell_type": "code",
   "execution_count": 73,
   "id": "of7h88nFAWk6",
   "metadata": {
    "id": "of7h88nFAWk6",
    "outputId": "097611c5-4119-4fdf-bd74-d000804af8f9"
   },
   "outputs": [
    {
     "name": "stdout",
     "output_type": "stream",
     "text": [
      "[0 0 0 ... 0 0 0]\n"
     ]
    }
   ],
   "source": [
    "satisfaction_pred = loaded_model.predict(test_df)\n",
    "print(satisfaction_pred)"
   ]
  },
  {
   "cell_type": "code",
   "execution_count": null,
   "id": "VwPYTIpSAWk6",
   "metadata": {
    "id": "VwPYTIpSAWk6"
   },
   "outputs": [],
   "source": []
  },
  {
   "cell_type": "markdown",
   "id": "2hthJhX2AWk7",
   "metadata": {
    "id": "2hthJhX2AWk7"
   },
   "source": [
    "#### Referance links (This Links contains some more Classification algorithms with some statistical analysis on data, this is purely for your referance)\n",
    "1) corr -> https://www.kaggle.com/code/parisrohan/customer-satisfaction\n",
    "    \n",
    "2) all models - https://www.kaggle.com/code/rocklen/santander-customer-satisfaction\n",
    "    \n",
    "3) mlp -> https://www.kaggle.com/code/yeonseokcho/santander-customer-satisfaction-mlpclassifier#2.-features-data-standardization\n",
    "    \n",
    "4) feature selection -> https://www.kaggle.com/code/kinnerakiran/guide-on-feature-selection    \n"
   ]
  },
  {
   "cell_type": "code",
   "execution_count": null,
   "id": "cEiwlZPGAWk7",
   "metadata": {
    "id": "cEiwlZPGAWk7"
   },
   "outputs": [],
   "source": []
  }
 ],
 "metadata": {
  "colab": {
   "collapsed_sections": [
    "nAmnv-Q1AWku"
   ],
   "provenance": []
  },
  "kernelspec": {
   "display_name": "Python 3 (ipykernel)",
   "language": "python",
   "name": "python3"
  },
  "language_info": {
   "codemirror_mode": {
    "name": "ipython",
    "version": 3
   },
   "file_extension": ".py",
   "mimetype": "text/x-python",
   "name": "python",
   "nbconvert_exporter": "python",
   "pygments_lexer": "ipython3",
   "version": "3.9.13"
  }
 },
 "nbformat": 4,
 "nbformat_minor": 5
}
